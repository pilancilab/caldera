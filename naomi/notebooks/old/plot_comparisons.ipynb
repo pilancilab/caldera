{
 "cells": [
  {
   "cell_type": "code",
   "execution_count": null,
   "metadata": {},
   "outputs": [],
   "source": [
    "from matplotlib import pyplot as plt\n",
    "\n",
    "import torch\n",
    "import pandas as pd"
   ]
  },
  {
   "cell_type": "code",
   "execution_count": null,
   "metadata": {},
   "outputs": [],
   "source": [
    "%load_ext autoreload\n",
    "%autoreload 2"
   ]
  },
  {
   "cell_type": "code",
   "execution_count": null,
   "metadata": {},
   "outputs": [],
   "source": [
    "FILENAME = \"/home/nsagan/experiments/results/Loftq_LPLR_comparsion.csv\"\n",
    "df = pd.read_csv(FILENAME)"
   ]
  },
  {
   "cell_type": "code",
   "execution_count": null,
   "metadata": {},
   "outputs": [],
   "source": [
    "df"
   ]
  },
  {
   "cell_type": "markdown",
   "metadata": {},
   "source": [
    "### Plots\n",
    "\n",
    "#### Legend:\n",
    "**(1)** Relative Frobenius Norm Errors on Mistral Weights: LoftQ vs. LoftQ-LPLR. For both, the full quantized matrix has two bits of precision, and the rank of the low-rank components is 64. For LoftQ, the factors have full precision, and, for LoftQ-LPLR, all factors have 8 bits of precision.\n",
    "\n",
    "**(2)** Same as (1), but the full quantized matrix has four bits of precision."
   ]
  },
  {
   "cell_type": "code",
   "execution_count": null,
   "metadata": {},
   "outputs": [],
   "source": [
    "loftq_bits = 4096**2 * 4 + 64 * 16 * (4096 * 2)\n",
    "loftq_lplr_bits = 4096**2 * 4 + 64 * 8 * (4096 * 2)"
   ]
  },
  {
   "cell_type": "code",
   "execution_count": null,
   "metadata": {},
   "outputs": [],
   "source": [
    "64 * 16 * (4096 * 2) / loftq_bits"
   ]
  },
  {
   "cell_type": "code",
   "execution_count": null,
   "metadata": {},
   "outputs": [],
   "source": [
    "64 * 8 * (4096 * 2) / loftq_lplr_bits"
   ]
  },
  {
   "cell_type": "code",
   "execution_count": null,
   "metadata": {},
   "outputs": [],
   "source": [
    "loftq_lplr_bits / loftq_bits"
   ]
  },
  {
   "cell_type": "code",
   "execution_count": null,
   "metadata": {},
   "outputs": [],
   "source": [
    "loftq_bits = 4096**2 * 2 + 64 * 16 * (4096 * 2)\n",
    "loftq_lplr_bits = 4096**2 * 2 + 64 * 8 * (4096 * 2)"
   ]
  },
  {
   "cell_type": "code",
   "execution_count": null,
   "metadata": {},
   "outputs": [],
   "source": [
    "loftq_lplr_bits / loftq_bits"
   ]
  },
  {
   "cell_type": "code",
   "execution_count": null,
   "metadata": {},
   "outputs": [],
   "source": [
    "plt.figure(figsize=(15, 4))\n",
    "plt.title(\"Relative Fro Error on Mistral Weights (1)\")\n",
    "plt.plot(\n",
    "    df[\"LoftQ (2B)\"], label=\"LoftQ\", \n",
    "    color='r', marker='o', linestyle='-', markersize=4\n",
    ")\n",
    "plt.plot(df[\"Loftq-LPLR (2B)\"], label=\"LoftQ-LPLR\",\n",
    "    color='b', marker='o', linestyle='-', markersize=4\n",
    ")\n",
    "plt.xlabel(\"Weight Index\")\n",
    "plt.ylabel(\"Error\")\n",
    "plt.grid(True)\n",
    "plt.legend()"
   ]
  },
  {
   "cell_type": "code",
   "execution_count": null,
   "metadata": {},
   "outputs": [],
   "source": [
    "plt.figure(figsize=(15, 4))\n",
    "plt.title(\"Relative Fro Error on Mistral Weights (2)\")\n",
    "plt.plot(\n",
    "    df[\"LoftQ (4B)\"], label=\"LoftQ\", \n",
    "    color='r', marker='o', linestyle='-', markersize=4\n",
    ")\n",
    "plt.plot(df[\"Loftq-LPLR (4B)\"], label=\"LoftQ-LPLR\",\n",
    "    color='b', marker='o', linestyle='-', markersize=4\n",
    ")\n",
    "plt.xlabel(\"Weight Index\")\n",
    "plt.ylabel(\"Error\")\n",
    "plt.grid(True)\n",
    "plt.legend()"
   ]
  },
  {
   "cell_type": "code",
   "execution_count": null,
   "metadata": {},
   "outputs": [],
   "source": [
    "plt.figure(figsize=(15, 4))\n",
    "plt.title(\"LoftQ-LPLR Error, minus LoftQ Error (*positive means LoftQ-LPLR was better*) (1)\")\n",
    "plt.plot(\n",
    "    df[\"Loftq-LPLR (2B)\"]- df[\"LoftQ (2B)\"], label=\"Diff\", \n",
    "    color='r', marker='o', linestyle='-', markersize=4\n",
    ")\n",
    "plt.grid(True)\n",
    "plt.xlabel(\"Weight Index\")\n",
    "plt.ylabel(\"Error\")\n",
    "plt.legend()"
   ]
  },
  {
   "cell_type": "code",
   "execution_count": null,
   "metadata": {},
   "outputs": [],
   "source": [
    "plt.figure(figsize=(15, 4))\n",
    "plt.title(\"LoftQ-LPLR Error, minus LoftQ Error (*positive means LoftQ-LPLR was better*) (2)\")\n",
    "plt.plot(\n",
    "    (df[\"Loftq-LPLR (4B)\"]- df[\"LoftQ (4B)\"]), label=\"Diff\", \n",
    "    color='r', marker='o', linestyle='-', markersize=4\n",
    ")\n",
    "plt.grid(True)\n",
    "plt.xlabel(\"Weight Index\")\n",
    "plt.ylabel(\"Error\")\n",
    "plt.legend()"
   ]
  },
  {
   "cell_type": "code",
   "execution_count": null,
   "metadata": {},
   "outputs": [],
   "source": []
  }
 ],
 "metadata": {
  "kernelspec": {
   "display_name": "Python 3",
   "language": "python",
   "name": "python3"
  },
  "language_info": {
   "codemirror_mode": {
    "name": "ipython",
    "version": 3
   },
   "file_extension": ".py",
   "mimetype": "text/x-python",
   "name": "python",
   "nbconvert_exporter": "python",
   "pygments_lexer": "ipython3",
   "version": "3.11.7"
  }
 },
 "nbformat": 4,
 "nbformat_minor": 2
}
