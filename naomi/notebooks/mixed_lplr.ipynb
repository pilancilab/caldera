{
 "cells": [
  {
   "cell_type": "code",
   "execution_count": 13,
   "metadata": {},
   "outputs": [],
   "source": [
    "import sys\n",
    "sys.path.insert(0,'../../../src')"
   ]
  },
  {
   "cell_type": "code",
   "execution_count": 14,
   "metadata": {},
   "outputs": [],
   "source": [
    "from phantominator import shepp_logan\n",
    "from matplotlib import pyplot as plt\n",
    "import numpy as np\n",
    "\n",
    "import torch\n",
    "\n",
    "from loguru import logger\n",
    "import pathlib\n",
    "from natsort import natsorted, ns\n",
    "\n",
    "import pandas as pd\n",
    "\n",
    "from transformers import AutoModelForCausalLM\n",
    "\n",
    "import csv"
   ]
  },
  {
   "cell_type": "markdown",
   "metadata": {},
   "source": [
    "### TODO\n",
    "- Our quantization implementations\n",
    "- Lower the bits for Q and increase the dimension of the factors\n",
    "- Run inference with our results\n",
    "\n",
    "### Notes\n",
    "- Preventing Diverging LoftQ optimization w/ \"momentum\":\n",
    "$B_{k+1} = Q((1-\\alpha) B_k + \\alpha * B_k)$\n",
    "- Question: does NF work or not; convergence issue\n",
    "- Try sketching\n",
    "- Can rotate $L$ and $R$ with some unitary matrix $H$ that makes the data more NF-quantizable (more Gaussian)\n",
    "- Add F-norm regularization on $L$, $R$\n",
    "- Some normalize and shift\n",
    "- Sparse $Q$\n",
    "- Make $Q$ have a Kronecker structure ($\\exist$ papers on this)\n",
    "- Replace $Q$ with $QD$, where $D$ is full-precision and diagonal\n",
    "- Try changing the objective function (type of norm)?\n",
    "- Use data-aware oprimization: right-multiply by a batch of training data (see: GPTQ)"
   ]
  },
  {
   "cell_type": "code",
   "execution_count": 15,
   "metadata": {},
   "outputs": [
    {
     "name": "stdout",
     "output_type": "stream",
     "text": [
      "The autoreload extension is already loaded. To reload it, use:\n",
      "  %reload_ext autoreload\n"
     ]
    }
   ],
   "source": [
    "%load_ext autoreload\n",
    "%autoreload 2"
   ]
  },
  {
   "cell_type": "code",
   "execution_count": 19,
   "metadata": {},
   "outputs": [],
   "source": [
    "from quantization import *\n",
    "from weight_compressors import *\n",
    "from hyperparameter_sweeps import *\n",
    "from benchmarkers import *\n",
    "from peft.utils.loftq_utils import loftq_init\n",
    "from peft.utils.loftq_lplr_utils import loftq_lplr_init\n",
    "from peft.utils.quantization_utils import NFQuantizerFactory"
   ]
  },
  {
   "cell_type": "code",
   "execution_count": 20,
   "metadata": {},
   "outputs": [],
   "source": [
    "DEFAULT_DEVICE = \"cuda:2\""
   ]
  },
  {
   "cell_type": "code",
   "execution_count": 21,
   "metadata": {},
   "outputs": [
    {
     "name": "stderr",
     "output_type": "stream",
     "text": [
      "Loading checkpoint shards: 100%|██████████| 2/2 [00:02<00:00,  1.02s/it]\n"
     ]
    }
   ],
   "source": [
    "mistral = AutoModelForCausalLM.from_pretrained(\"mistralai/Mistral-7B-v0.1\")"
   ]
  },
  {
   "cell_type": "code",
   "execution_count": 22,
   "metadata": {},
   "outputs": [],
   "source": [
    "layer_name, X_mis = list(mistral.named_parameters())[2]\n",
    "X_mis = X_mis.detach().to(DEFAULT_DEVICE)"
   ]
  },
  {
   "cell_type": "code",
   "execution_count": 23,
   "metadata": {},
   "outputs": [
    {
     "name": "stdout",
     "output_type": "stream",
     "text": [
      "torch.Size([1024, 4096])\n"
     ]
    },
    {
     "data": {
      "image/png": "[encoded data removed]",
      "text/plain": [
       "<Figure size 1100x300 with 1 Axes>"
      ]
     },
     "metadata": {},
     "output_type": "display_data"
    }
   ],
   "source": [
    "print(X_mis.shape)\n",
    "_, S, _ = torch.linalg.svd(X_mis.float(), full_matrices=False)\n",
    "\n",
    "# Plot the singular values\n",
    "plt.figure(figsize=(11, 3))\n",
    "plt.plot(S.cpu(), marker='o', linestyle='-', color='b')\n",
    "plt.title(f'Singular Values of Mistral layer {layer_name}')\n",
    "plt.xlabel('Index', color=\"white\")\n",
    "plt.ylabel('Singular Value', color=\"white\")\n",
    "plt.yscale('log')\n",
    "plt.grid(True)\n",
    "plt.show()"
   ]
  },
  {
   "cell_type": "code",
   "execution_count": 24,
   "metadata": {},
   "outputs": [],
   "source": [
    "# Generate a phantominator matrix\n",
    "# X = torch.Tensor(shepp_logan(2048))\n",
    "# plt.imshow(X, cmap=\"gray\", interpolation=\"nearest\")\n",
    "# plt.show()\n",
    "# _, S, _ = torch.linalg.svd(X.float(), full_matrices=False)\n",
    "\n",
    "# # Plot the singular values\n",
    "# plt.figure(figsize=(11, 3))\n",
    "# plt.plot(S, marker='o', linestyle='-', color='b')\n",
    "# plt.title('Singular Values of Phantom(1024)')\n",
    "# plt.xlabel('Index', color=\"white\")\n",
    "# plt.ylabel('Singular Value', color=\"white\")\n",
    "# plt.yscale('log')\n",
    "# plt.grid(True)\n",
    "# plt.show()"
   ]
  },
  {
   "cell_type": "code",
   "execution_count": 25,
   "metadata": {},
   "outputs": [],
   "source": [
    "def test_iterative_weight_compression(\n",
    "    X = None,\n",
    "    weight_comp_configs: list[WeightCompressionConfig]=[\n",
    "        WeightCompressionConfig(\n",
    "            algorithm_type=AlgorithmType.ALTERNATING_MIXED_LPLR,\n",
    "            algorithm_kwargs={\n",
    "                \"k\": 64, \"r1\": 0, \"r2\": 0,\n",
    "                \"B1\": 8, \"B2\": 8\n",
    "            }\n",
    "        )\n",
    "    ],\n",
    "    plot_title = \"Frobenius Norm Errors over Iterations\"\n",
    "):\n",
    "    plot_colors = [\"b\", \"r\", \"g\", \"c\", \"m\", \"k\"]\n",
    "    plot_markers = [\"o\", \"X\", \"*\"]\n",
    "    # Set random seed for reproducibility\n",
    "    torch.manual_seed(42)\n",
    "\n",
    "    plt.figure(figsize=(11, 3))\n",
    "    for i, config in enumerate(weight_comp_configs):\n",
    "        kwargs = config.algorithm_kwargs.copy()\n",
    "        algorithm_type = config.algorithm_type\n",
    "        kwargs[\"log_errors\"] = True\n",
    "\n",
    "        if algorithm_type == AlgorithmType.ALTERNATING_MIXED_LPLR:\n",
    "            kwargs[\"X\"] = X\n",
    "            _, _, errors = alternating_mixed_lplr(**kwargs)\n",
    "        elif algorithm_type == AlgorithmType.DIRECT_SVD_LPLR:\n",
    "            kwargs[\"X\"] = X\n",
    "            _, _, errors = direct_svd_mixed_lplr(**kwargs)\n",
    "        elif algorithm_type == AlgorithmType.LOFTQ:\n",
    "            kwargs[\"weight\"] = X\n",
    "            _, _, _, errors = loftq_init(**kwargs)\n",
    "        else: ## Loftq-LPLR\n",
    "            kwargs[\"weight\"] = X\n",
    "            _, _, _, errors = loftq_lplr_init(**kwargs)\n",
    "\n",
    "        fro_norm_X = torch.norm(X, p=\"fro\").item()\n",
    "        relative_errors = np.array(errors) / fro_norm_X\n",
    "\n",
    "        print(relative_errors)\n",
    "\n",
    "        # Plot errors over iterations\n",
    "        plt.plot(\n",
    "            range(1, len(relative_errors) + 1),\n",
    "            relative_errors,\n",
    "            marker=plot_markers[(i // len(plot_colors)) % len(plot_markers)],\n",
    "            linestyle=\"-\",\n",
    "            markersize=4,\n",
    "            color=plot_colors[i % len(plot_colors)],\n",
    "            label=f\"Param Set {i+1}*\")\n",
    "\n",
    "    print(\"-\"*80, \"\\n* Legend Key\")\n",
    "    for i, config in enumerate(weight_comp_configs):\n",
    "        print(f\"Param Set {i+1}: \", config.algorithm_kwargs)\n",
    "        print(\"\\tusing algorithm type \", config.algorithm_type)\n",
    "\n",
    "    plt.title(plot_title)\n",
    "    plt.xlabel(\"Iteration\")\n",
    "    plt.ylabel(\"Error\")\n",
    "    plt.yscale(\"log\")\n",
    "    plt.grid(True)\n",
    "    plt.legend()\n",
    "    plt.show()"
   ]
  },
  {
   "cell_type": "code",
   "execution_count": 28,
   "metadata": {},
   "outputs": [
    {
     "name": "stdout",
     "output_type": "stream",
     "text": [
      "[0.08097707 0.07655463 0.07443008 0.07322451 0.07244457 0.07193358\n",
      " 0.07159784 0.07136988 0.0712131  0.0711059  0.07104702 0.07102698\n",
      " 0.07102541 0.07104771 0.07106786 0.07112504 0.07117758 0.07124499\n",
      " 0.07134293 0.07146993]\n",
      "[0.08097766 0.07655662 0.07443604 0.07323498 0.07246532 0.07195432\n",
      " 0.07160439 0.0713583  0.071202   0.07110897 0.07105181 0.07104874\n",
      " 0.07106586 0.07109414 0.07113249 0.07119139 0.07126002 0.07133372\n",
      " 0.071429   0.07152398]\n",
      "-------------------------------------------------------------------------------- \n",
      "* Legend Key\n",
      "Param Set 1:  {'num_bits': 4, 'reduced_rank': 64, 'num_iter': 20, 'quantizer_factory': <peft.utils.quantization_utils.NFQuantizerFactory object at 0x7fd3f692cd10>}\n",
      "\tusing algorithm type  AlgorithmType.LOFTQ\n",
      "Param Set 2:  {'num_bits': 4, 'num_bits_factors': 8, 'reduced_rank': 64, 'num_iter': 20, 'num_iter_lplr': 30, 'quantizer_factory': <peft.utils.quantization_utils.NFQuantizerFactory object at 0x7fd3f4470690>}\n",
      "\tusing algorithm type  AlgorithmType.LOFTQ_LPLR\n"
     ]
    },
    {
     "data": {
      "image/png": "[encoded data removed]",
      "text/plain": [
       "<Figure size 1100x300 with 1 Axes>"
      ]
     },
     "metadata": {},
     "output_type": "display_data"
    }
   ],
   "source": [
    "test_iterative_weight_compression(\n",
    "    weight_comp_configs=[\n",
    "        WeightCompressionConfig(\n",
    "            algorithm_kwargs={\n",
    "                \"num_bits\": 4, \"reduced_rank\": 64, \"num_iter\": 20, \"quantizer_factory\": NFQuantizerFactory(\"normal\")\n",
    "            },\n",
    "            algorithm_type=AlgorithmType.LOFTQ\n",
    "        ),\n",
    "        WeightCompressionConfig(\n",
    "            algorithm_kwargs={\n",
    "                \"num_bits\": 4, \"num_bits_factors\": 8, \"reduced_rank\": 64,\n",
    "                \"num_iter\": 20, \"num_iter_lplr\": 30, \"quantizer_factory\": NFQuantizerFactory(\"normal\")\n",
    "            },\n",
    "            algorithm_type=AlgorithmType.LOFTQ_LPLR\n",
    "        )\n",
    "    ],\n",
    "    plot_title=\"Frobenius Norm Errors over Iterations\",\n",
    "    X=X_mis.T\n",
    ")"
   ]
  },
  {
   "cell_type": "code",
   "execution_count": 29,
   "metadata": {},
   "outputs": [],
   "source": [
    "### Do some hyperparameter sweeps on the Shepp-Logan matrix\n",
    "average_bit_level = 3\n",
    "budget = X_mis.shape[0] * X_mis.shape[1] * average_bit_level"
   ]
  },
  {
   "cell_type": "code",
   "execution_count": 30,
   "metadata": {},
   "outputs": [
    {
     "name": "stdout",
     "output_type": "stream",
     "text": [
      "--------------------------------------------------\n"
     ]
    },
    {
     "name": "stderr",
     "output_type": "stream",
     "text": [
      "2024-01-12 00:20:46.814 | INFO     | hyperparameter_sweeps:lplr_sweep_alpha:143 - B=4, alpha=0.0, beta=0.6\n",
      "2024-01-12 00:20:47.676 | INFO     | hyperparameter_sweeps:lplr_sweep_alpha:159 - Frobenius norm error: 0.06845848878954429\n"
     ]
    },
    {
     "name": "stdout",
     "output_type": "stream",
     "text": [
      "--------------------------------------------------\n"
     ]
    },
    {
     "name": "stderr",
     "output_type": "stream",
     "text": [
      "2024-01-12 00:20:47.677 | INFO     | hyperparameter_sweeps:lplr_sweep_alpha:143 - B=4, alpha=0.1, beta=0.46153846\n",
      "2024-01-12 00:20:48.291 | INFO     | hyperparameter_sweeps:lplr_sweep_alpha:159 - Frobenius norm error: 0.04530449709340094\n"
     ]
    },
    {
     "name": "stdout",
     "output_type": "stream",
     "text": [
      "--------------------------------------------------\n"
     ]
    },
    {
     "name": "stderr",
     "output_type": "stream",
     "text": [
      "2024-01-12 00:20:48.292 | INFO     | hyperparameter_sweeps:lplr_sweep_alpha:143 - B=4, alpha=0.2, beta=0.375\n",
      "2024-01-12 00:20:48.831 | INFO     | hyperparameter_sweeps:lplr_sweep_alpha:159 - Frobenius norm error: 0.05416434301824038\n"
     ]
    },
    {
     "name": "stdout",
     "output_type": "stream",
     "text": [
      "--------------------------------------------------\n"
     ]
    },
    {
     "name": "stderr",
     "output_type": "stream",
     "text": [
      "2024-01-12 00:20:48.832 | INFO     | hyperparameter_sweeps:lplr_sweep_alpha:143 - B=4, alpha=0.3, beta=0.31578947\n",
      "2024-01-12 00:20:49.320 | INFO     | hyperparameter_sweeps:lplr_sweep_alpha:159 - Frobenius norm error: 0.0641400921473226\n"
     ]
    },
    {
     "name": "stdout",
     "output_type": "stream",
     "text": [
      "--------------------------------------------------\n"
     ]
    },
    {
     "name": "stderr",
     "output_type": "stream",
     "text": [
      "2024-01-12 00:20:49.321 | INFO     | hyperparameter_sweeps:lplr_sweep_alpha:143 - B=4, alpha=0.4, beta=0.27272727\n",
      "2024-01-12 00:20:49.782 | INFO     | hyperparameter_sweeps:lplr_sweep_alpha:159 - Frobenius norm error: 0.07341879754234797\n"
     ]
    },
    {
     "name": "stdout",
     "output_type": "stream",
     "text": [
      "--------------------------------------------------\n"
     ]
    },
    {
     "name": "stderr",
     "output_type": "stream",
     "text": [
      "2024-01-12 00:20:49.783 | INFO     | hyperparameter_sweeps:lplr_sweep_alpha:143 - B=4, alpha=0.5, beta=0.24\n",
      "2024-01-12 00:20:50.221 | INFO     | hyperparameter_sweeps:lplr_sweep_alpha:159 - Frobenius norm error: 0.08208555241419419\n"
     ]
    },
    {
     "name": "stdout",
     "output_type": "stream",
     "text": [
      "--------------------------------------------------\n"
     ]
    },
    {
     "name": "stderr",
     "output_type": "stream",
     "text": [
      "2024-01-12 00:20:50.222 | INFO     | hyperparameter_sweeps:lplr_sweep_alpha:172 - [B=4]The best frobenius norm error was for alpha=0.1: 0.04530449709340094\n"
     ]
    },
    {
     "name": "stdout",
     "output_type": "stream",
     "text": [
      "--------------------------------------------------\n"
     ]
    },
    {
     "name": "stderr",
     "output_type": "stream",
     "text": [
      "2024-01-12 00:20:50.223 | INFO     | hyperparameter_sweeps:lplr_sweep_alpha:143 - B=8, alpha=0.0, beta=0.3\n",
      "2024-01-12 00:20:50.717 | INFO     | hyperparameter_sweeps:lplr_sweep_alpha:159 - Frobenius norm error: 0.0661925015194805\n"
     ]
    },
    {
     "name": "stdout",
     "output_type": "stream",
     "text": [
      "--------------------------------------------------\n"
     ]
    },
    {
     "name": "stderr",
     "output_type": "stream",
     "text": [
      "2024-01-12 00:20:50.718 | INFO     | hyperparameter_sweeps:lplr_sweep_alpha:143 - B=8, alpha=0.1, beta=0.27272727\n",
      "2024-01-12 00:20:51.190 | INFO     | hyperparameter_sweeps:lplr_sweep_alpha:159 - Frobenius norm error: 0.07246788963039755\n"
     ]
    },
    {
     "name": "stdout",
     "output_type": "stream",
     "text": [
      "--------------------------------------------------\n"
     ]
    },
    {
     "name": "stderr",
     "output_type": "stream",
     "text": [
      "2024-01-12 00:20:51.192 | INFO     | hyperparameter_sweeps:lplr_sweep_alpha:143 - B=8, alpha=0.2, beta=0.25\n",
      "2024-01-12 00:20:51.641 | INFO     | hyperparameter_sweeps:lplr_sweep_alpha:159 - Frobenius norm error: 0.0783647892075003\n"
     ]
    },
    {
     "name": "stdout",
     "output_type": "stream",
     "text": [
      "--------------------------------------------------\n"
     ]
    },
    {
     "name": "stderr",
     "output_type": "stream",
     "text": [
      "2024-01-12 00:20:51.642 | INFO     | hyperparameter_sweeps:lplr_sweep_alpha:143 - B=8, alpha=0.3, beta=0.23076923\n",
      "2024-01-12 00:20:52.071 | INFO     | hyperparameter_sweeps:lplr_sweep_alpha:159 - Frobenius norm error: 0.08398567511041631\n"
     ]
    },
    {
     "name": "stdout",
     "output_type": "stream",
     "text": [
      "--------------------------------------------------\n"
     ]
    },
    {
     "name": "stderr",
     "output_type": "stream",
     "text": [
      "2024-01-12 00:20:52.072 | INFO     | hyperparameter_sweeps:lplr_sweep_alpha:143 - B=8, alpha=0.4, beta=0.21428571\n",
      "2024-01-12 00:20:52.487 | INFO     | hyperparameter_sweeps:lplr_sweep_alpha:159 - Frobenius norm error: 0.08923947061505125\n"
     ]
    },
    {
     "name": "stdout",
     "output_type": "stream",
     "text": [
      "--------------------------------------------------\n"
     ]
    },
    {
     "name": "stderr",
     "output_type": "stream",
     "text": [
      "2024-01-12 00:20:52.488 | INFO     | hyperparameter_sweeps:lplr_sweep_alpha:143 - B=8, alpha=0.5, beta=0.2\n",
      "2024-01-12 00:20:52.893 | INFO     | hyperparameter_sweeps:lplr_sweep_alpha:159 - Frobenius norm error: 0.09432465092041671\n"
     ]
    },
    {
     "name": "stdout",
     "output_type": "stream",
     "text": [
      "--------------------------------------------------\n"
     ]
    },
    {
     "name": "stderr",
     "output_type": "stream",
     "text": [
      "2024-01-12 00:20:52.894 | INFO     | hyperparameter_sweeps:lplr_sweep_alpha:172 - [B=8]The best frobenius norm error was for alpha=0.0: 0.0661925015194805\n"
     ]
    },
    {
     "name": "stdout",
     "output_type": "stream",
     "text": [
      "--------------------------------------------------\n"
     ]
    },
    {
     "name": "stderr",
     "output_type": "stream",
     "text": [
      "2024-01-12 00:20:52.895 | INFO     | hyperparameter_sweeps:lplr_sweep_alpha_and_B:243 - The best frobenius norm error was for B=4, alpha=0.1: 0.04530449709340094\n"
     ]
    }
   ],
   "source": [
    "mtxs, alpha, beta, B, error = lplr_sweep_alpha_and_B(\n",
    "    X=X_mis.T, budget=budget,\n",
    "    weight_comp_config=WeightCompressionConfig(\n",
    "        algorithm_kwargs={\"quantizer_factory\": NFQuantizerFactory(\"normal\"), \"iters\":30},\n",
    "        algorithm_type=AlgorithmType.ALTERNATING_MIXED_LPLR\n",
    "    ),\n",
    "    debug=True\n",
    ")"
   ]
  },
  {
   "cell_type": "code",
   "execution_count": 32,
   "metadata": {},
   "outputs": [
    {
     "name": "stdout",
     "output_type": "stream",
     "text": [
      "--------------------------------------------------\n"
     ]
    },
    {
     "name": "stderr",
     "output_type": "stream",
     "text": [
      "2024-01-12 00:22:17.208 | INFO     | hyperparameter_sweeps:lplr_sweep_alpha:143 - B=4, alpha=0.0, beta=0.2\n"
     ]
    },
    {
     "name": "stderr",
     "output_type": "stream",
     "text": [
      "2024-01-12 00:22:23.456 | INFO     | hyperparameter_sweeps:lplr_sweep_alpha:159 - Frobenius norm error: 0.3068090931088024\n"
     ]
    },
    {
     "name": "stdout",
     "output_type": "stream",
     "text": [
      "--------------------------------------------------\n"
     ]
    },
    {
     "name": "stderr",
     "output_type": "stream",
     "text": [
      "2024-01-12 00:22:23.456 | INFO     | hyperparameter_sweeps:lplr_sweep_alpha:143 - B=4, alpha=0.1, beta=0.15384615\n",
      "2024-01-12 00:22:29.048 | INFO     | hyperparameter_sweeps:lplr_sweep_alpha:159 - Frobenius norm error: 0.33368878178569544\n"
     ]
    },
    {
     "name": "stdout",
     "output_type": "stream",
     "text": [
      "--------------------------------------------------\n"
     ]
    },
    {
     "name": "stderr",
     "output_type": "stream",
     "text": [
      "2024-01-12 00:22:29.049 | INFO     | hyperparameter_sweeps:lplr_sweep_alpha:143 - B=4, alpha=0.2, beta=0.125\n",
      "2024-01-12 00:22:34.269 | INFO     | hyperparameter_sweeps:lplr_sweep_alpha:159 - Frobenius norm error: 0.35119298588944686\n"
     ]
    },
    {
     "name": "stdout",
     "output_type": "stream",
     "text": [
      "--------------------------------------------------\n"
     ]
    },
    {
     "name": "stderr",
     "output_type": "stream",
     "text": [
      "2024-01-12 00:22:34.270 | INFO     | hyperparameter_sweeps:lplr_sweep_alpha:143 - B=4, alpha=0.3, beta=0.10526316\n",
      "2024-01-12 00:22:39.321 | INFO     | hyperparameter_sweeps:lplr_sweep_alpha:159 - Frobenius norm error: 0.3637852776019634\n"
     ]
    },
    {
     "name": "stdout",
     "output_type": "stream",
     "text": [
      "--------------------------------------------------\n"
     ]
    },
    {
     "name": "stderr",
     "output_type": "stream",
     "text": [
      "2024-01-12 00:22:39.322 | INFO     | hyperparameter_sweeps:lplr_sweep_alpha:143 - B=4, alpha=0.4, beta=0.09090909\n",
      "2024-01-12 00:22:44.268 | INFO     | hyperparameter_sweeps:lplr_sweep_alpha:159 - Frobenius norm error: 0.37255175092157616\n"
     ]
    },
    {
     "name": "stdout",
     "output_type": "stream",
     "text": [
      "--------------------------------------------------\n"
     ]
    },
    {
     "name": "stderr",
     "output_type": "stream",
     "text": [
      "2024-01-12 00:22:44.269 | INFO     | hyperparameter_sweeps:lplr_sweep_alpha:143 - B=4, alpha=0.5, beta=0.08\n",
      "2024-01-12 00:22:49.107 | INFO     | hyperparameter_sweeps:lplr_sweep_alpha:159 - Frobenius norm error: 0.3806278615889524\n"
     ]
    },
    {
     "name": "stdout",
     "output_type": "stream",
     "text": [
      "--------------------------------------------------\n"
     ]
    },
    {
     "name": "stderr",
     "output_type": "stream",
     "text": [
      "2024-01-12 00:22:49.108 | INFO     | hyperparameter_sweeps:lplr_sweep_alpha:172 - [B=4]The best frobenius norm error was for alpha=0.0: 0.3068090931088024\n"
     ]
    },
    {
     "name": "stdout",
     "output_type": "stream",
     "text": [
      "--------------------------------------------------\n"
     ]
    },
    {
     "name": "stderr",
     "output_type": "stream",
     "text": [
      "2024-01-12 00:22:49.109 | INFO     | hyperparameter_sweeps:lplr_sweep_alpha:143 - B=8, alpha=0.0, beta=0.1\n",
      "2024-01-12 00:22:54.165 | INFO     | hyperparameter_sweeps:lplr_sweep_alpha:159 - Frobenius norm error: 0.3649026064197117\n"
     ]
    },
    {
     "name": "stdout",
     "output_type": "stream",
     "text": [
      "--------------------------------------------------\n"
     ]
    },
    {
     "name": "stderr",
     "output_type": "stream",
     "text": [
      "2024-01-12 00:22:54.166 | INFO     | hyperparameter_sweeps:lplr_sweep_alpha:143 - B=8, alpha=0.1, beta=0.09090909\n",
      "2024-01-12 00:22:59.110 | INFO     | hyperparameter_sweeps:lplr_sweep_alpha:159 - Frobenius norm error: 0.3707536493267637\n"
     ]
    },
    {
     "name": "stdout",
     "output_type": "stream",
     "text": [
      "--------------------------------------------------\n"
     ]
    },
    {
     "name": "stderr",
     "output_type": "stream",
     "text": [
      "2024-01-12 00:22:59.111 | INFO     | hyperparameter_sweeps:lplr_sweep_alpha:143 - B=8, alpha=0.2, beta=0.08333333\n",
      "2024-01-12 00:23:03.979 | INFO     | hyperparameter_sweeps:lplr_sweep_alpha:159 - Frobenius norm error: 0.3762287366190088\n"
     ]
    },
    {
     "name": "stdout",
     "output_type": "stream",
     "text": [
      "--------------------------------------------------\n"
     ]
    },
    {
     "name": "stderr",
     "output_type": "stream",
     "text": [
      "2024-01-12 00:23:03.980 | INFO     | hyperparameter_sweeps:lplr_sweep_alpha:143 - B=8, alpha=0.3, beta=0.07692308\n",
      "2024-01-12 00:23:08.802 | INFO     | hyperparameter_sweeps:lplr_sweep_alpha:159 - Frobenius norm error: 0.38106460725993646\n"
     ]
    },
    {
     "name": "stdout",
     "output_type": "stream",
     "text": [
      "--------------------------------------------------\n"
     ]
    },
    {
     "name": "stderr",
     "output_type": "stream",
     "text": [
      "2024-01-12 00:23:08.803 | INFO     | hyperparameter_sweeps:lplr_sweep_alpha:143 - B=8, alpha=0.4, beta=0.07142857\n",
      "2024-01-12 00:23:13.607 | INFO     | hyperparameter_sweeps:lplr_sweep_alpha:159 - Frobenius norm error: 0.3847571968220562\n"
     ]
    },
    {
     "name": "stdout",
     "output_type": "stream",
     "text": [
      "--------------------------------------------------\n"
     ]
    },
    {
     "name": "stderr",
     "output_type": "stream",
     "text": [
      "2024-01-12 00:23:13.609 | INFO     | hyperparameter_sweeps:lplr_sweep_alpha:143 - B=8, alpha=0.5, beta=0.06666667\n",
      "2024-01-12 00:23:18.399 | INFO     | hyperparameter_sweeps:lplr_sweep_alpha:159 - Frobenius norm error: 0.38841893082535883\n"
     ]
    },
    {
     "name": "stdout",
     "output_type": "stream",
     "text": [
      "--------------------------------------------------\n"
     ]
    },
    {
     "name": "stderr",
     "output_type": "stream",
     "text": [
      "2024-01-12 00:23:18.400 | INFO     | hyperparameter_sweeps:lplr_sweep_alpha:172 - [B=8]The best frobenius norm error was for alpha=0.0: 0.3649026064197117\n"
     ]
    },
    {
     "name": "stdout",
     "output_type": "stream",
     "text": [
      "--------------------------------------------------\n"
     ]
    },
    {
     "name": "stderr",
     "output_type": "stream",
     "text": [
      "2024-01-12 00:23:18.401 | INFO     | hyperparameter_sweeps:lplr_sweep_alpha_and_B:243 - The best frobenius norm error was for B=4, alpha=0.0: 0.3068090931088024\n"
     ]
    }
   ],
   "source": [
    "mtxs, alpha, beta, B, error = lplr_sweep_alpha_and_B(\n",
    "    X=X_mis.T, budget=budget,\n",
    "    weight_comp_config=WeightCompressionConfig(\n",
    "        algorithm_kwargs={\"quantizer_factory\": QuantizerFactory(\"normal\"), \"num_bits\": 2, \"num_iter\": 20, \"num_iter_lplr\": 20},\n",
    "        algorithm_type=AlgorithmType.LOFTQ_LPLR\n",
    "    ),\n",
    "    debug=True\n",
    ")"
   ]
  },
  {
   "cell_type": "code",
   "execution_count": 33,
   "metadata": {},
   "outputs": [],
   "source": [
    "class BenchmarkerComparison():\n",
    "    def __init__(\n",
    "        self,\n",
    "        benchmarkers: list[WeightCompressionBenchmarker] = [],\n",
    "        enforce_budget = True,\n",
    "        average_bit_level = 4,\n",
    "        save_to_csv = False,\n",
    "        continue_csv = False,\n",
    "        save_file = None,\n",
    "        reset_error_lists = True\n",
    "    ):\n",
    "        if reset_error_lists:\n",
    "            for benchmarker in benchmarkers:\n",
    "                benchmarker.reset_errors()\n",
    "\n",
    "        self.benchmarkers = benchmarkers\n",
    "        self.save_to_csv = save_to_csv or continue_csv\n",
    "        self.continue_csv = continue_csv\n",
    "        self.save_file = save_file\n",
    "        self.enforce_budget = enforce_budget\n",
    "        self.average_bit_level = average_bit_level if enforce_budget else 256\n",
    "        \n",
    "        if save_to_csv and not continue_csv:\n",
    "            with open(save_file, 'w') as csvfile:\n",
    "                writer = csv.writer(csvfile)\n",
    "\n",
    "                first_headers = [\"Layer Name\", \"n\", \"d\"]\n",
    "                if enforce_budget:\n",
    "                    first_headers.append(\"Bit Budget\")\n",
    "                writer.writerow(first_headers + [benchmarker.label for benchmarker in benchmarkers])\n",
    "        if continue_csv:\n",
    "            df = pd.read_csv(save_file)\n",
    "            self.prev_layer_names = list(df[\"Layer Name\"])\n",
    "    \n",
    "    def write_latest_data(self, layer_name, n, d, budget=0):\n",
    "        with open(self.save_file, 'a') as csvfile:\n",
    "            writer = csv.writer(csvfile)\n",
    "            first_items = [layer_name, n, d]\n",
    "            if self.enforce_budget:\n",
    "                first_items.append(budget)\n",
    "            writer.writerow(first_items + [benchmarker.errors[-1] for benchmarker in self.benchmarkers])\n",
    "    \n",
    "    def run_on_matrix(self, layer_name, X):\n",
    "        if self.continue_csv and layer_name in self.prev_layer_names:\n",
    "            return\n",
    "        print(f\"Benchmarking {layer_name}\")\n",
    "        n, d = X.size()\n",
    "        budget = n*d*self.average_bit_level\n",
    "\n",
    "        for benchmarker in self.benchmarkers:\n",
    "            benchmarker.run(X, budget)\n",
    "\n",
    "        if self.save_to_csv:\n",
    "            self.write_latest_data(layer_name, n, d, budget)\n",
    "\n",
    "    def print_errors(self):\n",
    "        for benchmarker in self.benchmarkers:\n",
    "            print(f\"{benchmarker.label}: {benchmarker.errors}\")\n",
    "\n",
    "    def plot_errors(self):\n",
    "        plot_colors = [\"b\", \"r\", \"g\", \"c\", \"m\", \"k\"]\n",
    "        plot_markers = [\"o\", \"X\", \"*\"]\n",
    "\n",
    "        plt.figure(figsize=(15, 4))\n",
    "        for i, benchmarker in enumerate(self.benchmarkers):\n",
    "            plt.plot(\n",
    "                benchmarker.errors,\n",
    "                marker=plot_markers[(i // len(plot_colors)) % len(plot_markers)],\n",
    "                linestyle=\"-\",\n",
    "                markersize=4,\n",
    "                color=plot_colors[i % len(plot_colors)],\n",
    "                label=benchmarker.label\n",
    "            )\n",
    "        plt.title(\"Relative Frobenius Error\")\n",
    "        plt.xlabel(\"Layer\")\n",
    "        plt.ylabel(\"Error\")\n",
    "        plt.yscale(\"log\")\n",
    "        plt.grid(True)\n",
    "        plt.legend()\n",
    "        plt.show()\n"
   ]
  },
  {
   "cell_type": "code",
   "execution_count": 34,
   "metadata": {},
   "outputs": [],
   "source": [
    "class BenchmarkerComparisonList(BenchmarkerComparison):\n",
    "    def __init__(\n",
    "        self,\n",
    "        X_list: list[torch.Tensor] = [],\n",
    "        **kwargs\n",
    "    ):\n",
    "        self.X_list = X_list\n",
    "        super().__init__(**kwargs)\n",
    "\n",
    "    def run(self):\n",
    "        for i, X in enumerate(self.X_list):\n",
    "            self.run_on_matrix(f\"Matrix {i}\", X)"
   ]
  },
  {
   "cell_type": "code",
   "execution_count": 35,
   "metadata": {},
   "outputs": [],
   "source": [
    "class BenchmarkerComparisonModel(BenchmarkerComparison):\n",
    "    def __init__(\n",
    "        self,\n",
    "        model,\n",
    "        device = \"cpu\",\n",
    "        layer_limit:int = -1, # Limits the number of weight matrices used\n",
    "                              # for benchmarking (mainly for debugging purposes).\n",
    "                              # -1 means no limit.\n",
    "         max_num_cols:int = -1, # Excludes weight matrices that are too large.\n",
    "        **kwargs\n",
    "    ):\n",
    "        self.model = model\n",
    "        self.device = device\n",
    "        self.layer_limit = layer_limit if layer_limit > 0 else float('inf')\n",
    "        self.max_num_cols = max_num_cols if max_num_cols > 0 else float('inf')\n",
    "        super().__init__(**kwargs)\n",
    "\n",
    "    def run(self):\n",
    "        layer_count = 0\n",
    "        for layer_name, X in self.model.named_parameters():\n",
    "            if self.continue_csv and layer_name in self.prev_layer_names:\n",
    "                continue\n",
    "            if X.dim() != 2:\n",
    "                continue\n",
    "            if X.shape[0] < X.shape[1]:\n",
    "                X = X.T\n",
    "            if X.shape[0] > self.max_num_cols:\n",
    "                logger.info(\"Layer larger than maximum size specified, skipping.\")\n",
    "                continue\n",
    "\n",
    "            layer_count += 1\n",
    "            if layer_count > self.layer_limit:\n",
    "                logger.info(\"Reached layer limit, exiting.\")\n",
    "                return layer_count\n",
    "            \n",
    "            self.run_on_matrix(layer_name, X.float().to(self.device))\n",
    "            "
   ]
  },
  {
   "cell_type": "code",
   "execution_count": 38,
   "metadata": {},
   "outputs": [],
   "source": [
    "benchmarkers = [\n",
    "        # LoftqBenchmarker(\n",
    "        #     WeightCompressionConfig(\n",
    "        #         algorithm_kwargs={\n",
    "        #             \"num_iter\": 20,\n",
    "        #             \"reduced_rank\": 64,\n",
    "        #             \"num_bits\": 2,\n",
    "        #             \"quant_type\": QuantType.UNIFORM\n",
    "        #         },\n",
    "        #         algorithm_type=AlgorithmType.LOFTQ\n",
    "        #     ),\n",
    "        #     fixed_rank=True,\n",
    "        #     label=\"LoftQ (2b)\"\n",
    "        # ),\n",
    "        # LoftqBenchmarker(\n",
    "        #     WeightCompressionConfig(\n",
    "        #         algorithm_kwargs={\n",
    "        #             \"num_iter\": 20,\n",
    "        #             \"reduced_rank\": 64,\n",
    "        #             \"num_bits\": 4,\n",
    "        #             \"quant_type\": QuantType.UNIFORM\n",
    "        #         },\n",
    "        #         algorithm_type=AlgorithmType.LOFTQ\n",
    "        #     ),\n",
    "        #     fixed_rank=True,\n",
    "        #     label=\"LoftQ (4b)\"\n",
    "        # ),\n",
    "        LoftqBenchmarker(\n",
    "            WeightCompressionConfig(\n",
    "                algorithm_kwargs={\n",
    "                    \"num_iter\": 20,\n",
    "                    \"reduced_rank\": 64,\n",
    "                    \"num_bits\": 8,\n",
    "                    \"quantizer_factory\": QuantizerFactory(\"normal\")\n",
    "                },\n",
    "                algorithm_type=AlgorithmType.LOFTQ\n",
    "            ),\n",
    "            label=\"LoftQ (8b)\"\n",
    "        ),\n",
    "        # LplrBenchmarker(\n",
    "        #     WeightCompressionConfig(\n",
    "        #         algorithm_kwargs={\n",
    "        #             \"quant_type\": QuantType.UNIFORM,\n",
    "        #             \"num_bits\": 2,\n",
    "        #             \"num_bits_factors\": 8,\n",
    "        #             \"reduced_rank\": 64,\n",
    "        #             \"num_iter\": 20,\n",
    "        #             \"num_iter_lplr\": 30\n",
    "        #         },\n",
    "        #         algorithm_type=AlgorithmType.LOFTQ_LPLR\n",
    "        #     ),\n",
    "        #     label=\"Loftq-LPLR (2b)\",\n",
    "        #     run_hyper_parameter_sweep=False\n",
    "        # ),\n",
    "        # LplrBenchmarker(\n",
    "        #     WeightCompressionConfig(\n",
    "        #         algorithm_kwargs={\n",
    "        #             \"quant_type\": QuantType.UNIFORM,\n",
    "        #             \"num_bits\": 4,\n",
    "        #             \"num_bits_factors\": 8,\n",
    "        #             \"reduced_rank\": 64,\n",
    "        #             \"num_iter\": 20,\n",
    "        #             \"num_iter_lplr\": 30\n",
    "        #         },\n",
    "        #         algorithm_type=AlgorithmType.LOFTQ_LPLR\n",
    "        #     ),\n",
    "        #     label=\"Loftq-LPLR (4b)\",\n",
    "        #     run_hyper_parameter_sweep=False\n",
    "        # ),\n",
    "        LplrBenchmarker(\n",
    "            WeightCompressionConfig(\n",
    "                algorithm_kwargs={\n",
    "                    \"quantizer_factory\": QuantizerFactory(\"normal\"),\n",
    "                    \"num_bits\": 8,\n",
    "                    \"num_bits_factors\": 8,\n",
    "                    \"reduced_rank\": 64,\n",
    "                    \"num_iter\": 20,\n",
    "                    \"num_iter_lplr\": 30\n",
    "                },\n",
    "                algorithm_type=AlgorithmType.LOFTQ_LPLR\n",
    "            ),\n",
    "            label=\"Loftq-LPLR (8b)\",\n",
    "            run_hyper_parameter_sweep=False\n",
    "        ),\n",
    "    ]"
   ]
  },
  {
   "cell_type": "code",
   "execution_count": 39,
   "metadata": {},
   "outputs": [],
   "source": [
    "## For debugging, we set limits on how many layers we use\n",
    "## and their sizes\n",
    "comparison_object = BenchmarkerComparisonModel(\n",
    "    model=mistral,\n",
    "    device=DEFAULT_DEVICE,\n",
    "    layer_limit=5,\n",
    "    max_num_cols=15000,\n",
    "    benchmarkers=benchmarkers,\n",
    "    enforce_budget=False,\n",
    "    continue_csv=True,\n",
    "    save_file=\"/home/nsagan/experiments/results/Loftq_LPLR_comparsion_2.csv\"\n",
    ")"
   ]
  },
  {
   "cell_type": "code",
   "execution_count": 40,
   "metadata": {},
   "outputs": [
    {
     "name": "stderr",
     "output_type": "stream",
     "text": [
      "2024-01-12 00:24:21.385 | INFO     | __main__:run:28 - Layer larger than maximum size specified, skipping.\n"
     ]
    },
    {
     "name": "stdout",
     "output_type": "stream",
     "text": [
      "Benchmarking model.layers.0.self_attn.o_proj.weight\n",
      "Benchmarking model.layers.0.mlp.gate_proj.weight\n",
      "Benchmarking model.layers.0.mlp.up_proj.weight\n",
      "Unexpected exception formatting exception. Falling back to standard exception\n"
     ]
    },
    {
     "name": "stderr",
     "output_type": "stream",
     "text": [
      "Traceback (most recent call last):\n",
      "  File \"/home/nsagan/experiments/.conda/lib/python3.11/site-packages/IPython/core/interactiveshell.py\", line 3553, in run_code\n",
      "    exec(code_obj, self.user_global_ns, self.user_ns)\n",
      "  File \"/tmp/ipykernel_51758/738959931.py\", line 1, in <module>\n",
      "    comparison_object.run()\n",
      "  File \"/tmp/ipykernel_51758/1935719891.py\", line 36, in run\n",
      "    self.run_on_matrix(layer_name, X.float().to(self.device))\n",
      "  File \"/tmp/ipykernel_51758/35584889.py\", line 51, in run_on_matrix\n",
      "    benchmarker.run(X, budget)\n",
      "  File \"/home/nsagan/peft/winter24-lplr-extension/naomi/notebooks/../../src/benchmarkers.py\", line 85, in run\n",
      "    Q, R, L = loftq_lplr_init(**lplr_kwargs)\n",
      "              ^^^^^^^^^^^^^^^^^^^^^^^^^^^^^^\n",
      "  File \"/home/nsagan/experiments/.conda/lib/python3.11/site-packages/torch/utils/_contextlib.py\", line 115, in decorate_context\n",
      "    return func(*args, **kwargs)\n",
      "           ^^^^^^^^^^^^^^^^^^^^^\n",
      "  File \"/home/nsagan/peft/winter24-lplr-extension/naomi/notebooks/../../../src/peft/utils/loftq_lplr_utils.py\", line 57, in loftq_lplr_init\n",
      "    mtxs, _ = alternating_mixed_lplr(\n",
      "              ^^^^^^^^^^^^^^^^^^^^^^^\n",
      "  File \"/home/nsagan/peft/winter24-lplr-extension/naomi/notebooks/../../src/weight_compressors.py\", line 75, in alternating_mixed_lplr\n",
      "KeyboardInterrupt\n",
      "\n",
      "During handling of the above exception, another exception occurred:\n",
      "\n",
      "Traceback (most recent call last):\n",
      "  File \"/home/nsagan/experiments/.conda/lib/python3.11/site-packages/IPython/core/interactiveshell.py\", line 2144, in showtraceback\n",
      "    stb = self.InteractiveTB.structured_traceback(\n",
      "          ^^^^^^^^^^^^^^^^^^^^^^^^^^^^^^^^^^^^^^^^\n",
      "  File \"/home/nsagan/experiments/.conda/lib/python3.11/site-packages/IPython/core/ultratb.py\", line 1435, in structured_traceback\n",
      "    return FormattedTB.structured_traceback(\n",
      "           ^^^^^^^^^^^^^^^^^^^^^^^^^^^^^^^^^\n",
      "  File \"/home/nsagan/experiments/.conda/lib/python3.11/site-packages/IPython/core/ultratb.py\", line 1326, in structured_traceback\n",
      "    return VerboseTB.structured_traceback(\n",
      "           ^^^^^^^^^^^^^^^^^^^^^^^^^^^^^^^\n",
      "  File \"/home/nsagan/experiments/.conda/lib/python3.11/site-packages/IPython/core/ultratb.py\", line 1173, in structured_traceback\n",
      "    formatted_exception = self.format_exception_as_a_whole(etype, evalue, etb, number_of_lines_of_context,\n",
      "                          ^^^^^^^^^^^^^^^^^^^^^^^^^^^^^^^^^^^^^^^^^^^^^^^^^^^^^^^^^^^^^^^^^^^^^^^^^^^^^^^^\n",
      "  File \"/home/nsagan/experiments/.conda/lib/python3.11/site-packages/IPython/core/ultratb.py\", line 1088, in format_exception_as_a_whole\n",
      "    frames.append(self.format_record(record))\n",
      "                  ^^^^^^^^^^^^^^^^^^^^^^^^^^\n",
      "  File \"/home/nsagan/experiments/.conda/lib/python3.11/site-packages/IPython/core/ultratb.py\", line 970, in format_record\n",
      "    frame_info.lines, Colors, self.has_colors, lvals\n",
      "    ^^^^^^^^^^^^^^^^\n",
      "  File \"/home/nsagan/experiments/.conda/lib/python3.11/site-packages/IPython/core/ultratb.py\", line 792, in lines\n",
      "    return self._sd.lines\n",
      "           ^^^^^^^^^^^^^^\n",
      "  File \"/home/nsagan/experiments/.conda/lib/python3.11/site-packages/stack_data/utils.py\", line 144, in cached_property_wrapper\n",
      "    value = obj.__dict__[self.func.__name__] = self.func(obj)\n",
      "                                               ^^^^^^^^^^^^^^\n",
      "  File \"/home/nsagan/experiments/.conda/lib/python3.11/site-packages/stack_data/core.py\", line 734, in lines\n",
      "    pieces = self.included_pieces\n",
      "             ^^^^^^^^^^^^^^^^^^^^\n",
      "  File \"/home/nsagan/experiments/.conda/lib/python3.11/site-packages/stack_data/utils.py\", line 144, in cached_property_wrapper\n",
      "    value = obj.__dict__[self.func.__name__] = self.func(obj)\n",
      "                                               ^^^^^^^^^^^^^^\n",
      "  File \"/home/nsagan/experiments/.conda/lib/python3.11/site-packages/stack_data/core.py\", line 681, in included_pieces\n",
      "    pos = scope_pieces.index(self.executing_piece)\n",
      "                             ^^^^^^^^^^^^^^^^^^^^\n",
      "  File \"/home/nsagan/experiments/.conda/lib/python3.11/site-packages/stack_data/utils.py\", line 144, in cached_property_wrapper\n",
      "    value = obj.__dict__[self.func.__name__] = self.func(obj)\n",
      "                                               ^^^^^^^^^^^^^^\n",
      "  File \"/home/nsagan/experiments/.conda/lib/python3.11/site-packages/stack_data/core.py\", line 660, in executing_piece\n",
      "    return only(\n",
      "           ^^^^^\n",
      "  File \"/home/nsagan/experiments/.conda/lib/python3.11/site-packages/executing/executing.py\", line 116, in only\n",
      "    raise NotOneValueFound('Expected one value, found 0')\n",
      "executing.executing.NotOneValueFound: Expected one value, found 0\n"
     ]
    }
   ],
   "source": [
    "comparison_object.run()"
   ]
  },
  {
   "cell_type": "code",
   "execution_count": null,
   "metadata": {},
   "outputs": [],
   "source": []
  }
 ],
 "metadata": {
  "kernelspec": {
   "display_name": "Python 3 (ipykernel)",
   "language": "python",
   "name": "python3"
  },
  "language_info": {
   "codemirror_mode": {
    "name": "ipython",
    "version": 3
   },
   "file_extension": ".py",
   "mimetype": "text/x-python",
   "name": "python",
   "nbconvert_exporter": "python",
   "pygments_lexer": "ipython3",
   "version": "3.11.7"
  }
 },
 "nbformat": 4,
 "nbformat_minor": 2
}
