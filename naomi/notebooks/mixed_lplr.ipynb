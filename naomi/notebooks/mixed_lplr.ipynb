{
 "cells": [
  {
   "cell_type": "code",
   "execution_count": 2,
   "metadata": {},
   "outputs": [],
   "source": [
    "from phantominator import shepp_logan\n",
    "from matplotlib import pyplot as plt\n",
    "\n",
    "import torch\n",
    "\n",
    "from loguru import logger\n",
    "import pathlib\n",
    "from natsort import natsorted, ns"
   ]
  },
  {
   "cell_type": "code",
   "execution_count": 3,
   "metadata": {},
   "outputs": [],
   "source": [
    "%load_ext autoreload\n",
    "%autoreload 2"
   ]
  },
  {
   "cell_type": "code",
   "execution_count": 11,
   "metadata": {},
   "outputs": [],
   "source": [
    "from quantization import *\n",
    "from weight_compressors import *\n",
    "from hyperparameter_sweeps import *\n",
    "from benchmarkers import *"
   ]
  },
  {
   "cell_type": "code",
   "execution_count": 35,
   "metadata": {},
   "outputs": [],
   "source": [
    "## Only run this if you're running an older version of Python (e.g., 3.6) + using Jupyter in dark mode!\n",
    "############################################################################################\n",
    "# SMALL_SIZE = 12\n",
    "# MEDIUM_SIZE = 16\n",
    "# BIGGER_SIZE = 18\n",
    "\n",
    "# plt.rc('font', size=SMALL_SIZE)\n",
    "# plt.rc('axes', titlesize=BIGGER_SIZE, titlecolor=\"white\")  \n",
    "# plt.rc('axes', labelsize=MEDIUM_SIZE, labelcolor=\"white\")    # fontsize of the x and y labels\n",
    "# plt.rc('xtick', labelsize=SMALL_SIZE, color=\"white\")    # fontsize of the tick labels\n",
    "# plt.rc('ytick', labelsize=SMALL_SIZE, color=\"white\")    # fontsize of the tick labels\n",
    "############################################################################################"
   ]
  },
  {
   "cell_type": "code",
   "execution_count": 45,
   "metadata": {},
   "outputs": [],
   "source": [
    "DEFAULT_DEVICE = \"cuda:2\""
   ]
  },
  {
   "cell_type": "code",
   "execution_count": 6,
   "metadata": {},
   "outputs": [
    {
     "data": {
      "image/png": "[encoded data removed]",
      "text/plain": [
       "<Figure size 432x288 with 1 Axes>"
      ]
     },
     "metadata": {},
     "output_type": "display_data"
    },
    {
     "data": {
      "image/png": "[encoded data removed]",
      "text/plain": [
       "<Figure size 792x216 with 1 Axes>"
      ]
     },
     "metadata": {},
     "output_type": "display_data"
    }
   ],
   "source": [
    "# Generate a phantominator matrix\n",
    "X = torch.Tensor(shepp_logan(2048))\n",
    "plt.imshow(X, cmap=\"gray\", interpolation=\"nearest\")\n",
    "plt.show()\n",
    "\n",
    "_, S, _ = torch.linalg.svd(X.float(), full_matrices=False)\n",
    "\n",
    "# Plot the singular values\n",
    "plt.figure(figsize=(11, 3))\n",
    "plt.plot(S, marker='o', linestyle='-', color='b')\n",
    "plt.title('Singular Values of Phantom(1024)', color=\"white\")\n",
    "plt.xlabel('Index', color=\"white\")\n",
    "plt.ylabel('Singular Value', color=\"white\")\n",
    "plt.yscale('log')\n",
    "plt.grid(True)\n",
    "plt.show()"
   ]
  },
  {
   "cell_type": "code",
   "execution_count": 37,
   "metadata": {},
   "outputs": [],
   "source": [
    "def set_kwargs_lplr(kwargs, d):\n",
    "    kwargs[\"k\"] = int(kwargs[\"beta\"] * d)\n",
    "    kwargs[\"r1\"] = int(kwargs[\"alpha\"] * kwargs[\"k\"])\n",
    "    kwargs[\"r2\"] = kwargs[\"r1\"]\n",
    "    kwargs[\"normalize_and_shift\"] = False\n",
    "    kwargs[\"log_errors\"] = True\n",
    "    del kwargs[\"alpha\"]\n",
    "    del kwargs[\"beta\"]\n",
    "\n",
    "def set_kwargs_loftq(kwargs, d):\n",
    "    kwargs[\"r\"] = int(kwargs[\"beta\"] * X.shape[1])\n",
    "    kwargs[\"normalize_and_shift\"] = True\n",
    "    kwargs[\"log_errors\"] = True\n",
    "    del kwargs[\"beta\"]\n",
    "\n",
    "def test_iterative_weight_compression(\n",
    "    algorithm_kwargs = [{\n",
    "        \"alpha\": 0.5,\n",
    "        \"beta\": 0.4\n",
    "    }], # list of dictionaries\n",
    "    algorithm_fns = [alternating_mixed_lplr],\n",
    "    algorithm_types = [AlgorithmType.LPLR],\n",
    "    device = \"cpu\",\n",
    "    X = None, # defaults to Shepp-Logan matrix\n",
    "    plot_title = \"Frobenius Norm Errors over Iterations\"\n",
    "):\n",
    "    plot_colors = [\"b\", \"r\", \"g\", \"c\", \"m\", \"k\"]\n",
    "    plot_markers = [\"o\", \"X\", \"*\"]\n",
    "    # Set random seed for reproducibility\n",
    "    torch.manual_seed(42)\n",
    "\n",
    "    if X is None:\n",
    "        # Generate a phantominator matrix\n",
    "        X = torch.Tensor(shepp_logan(2048))\n",
    "        print(f\"Phantom shape: {X.shape[1]}\")\n",
    "    X = X.to(device)\n",
    "\n",
    "    plt.figure(figsize=(11, 3))\n",
    "\n",
    "    for i, param_set in enumerate(algorithm_kwargs):\n",
    "        kwargs = param_set.copy()\n",
    "        if algorithm_types[i] == AlgorithmType.LPLR:\n",
    "            set_kwargs_lplr(kwargs, d=X.shape[1])\n",
    "        elif algorithm_types[i] == AlgorithmType.LOFTQ:\n",
    "            set_kwargs_loftq(kwargs, d=X.shape[1])\n",
    "\n",
    "        # Call alternating_mixed_lplr and retrieve errors\n",
    "        kwargs[\"X\"] = X\n",
    "        _, _, errors = algorithm_fns[i](**kwargs)\n",
    "        \n",
    "        fro_norm_X = torch.norm(X, p=\"fro\").item()\n",
    "        relative_errors = [error / fro_norm_X for error in errors]\n",
    "\n",
    "        # Plot errors over iterations\n",
    "        plt.plot(\n",
    "            range(1, len(relative_errors) + 1),\n",
    "            relative_errors,\n",
    "            marker=plot_markers[(i // len(plot_colors)) % len(plot_markers)],\n",
    "            linestyle=\"-\",\n",
    "            markersize=4,\n",
    "            color=plot_colors[i % len(plot_colors)],\n",
    "            label=f\"Param Set {i+1}*\")\n",
    "\n",
    "    print(\"-\"*80, \"\\n* Legend Key\")\n",
    "    for i, kwargs in enumerate(algorithm_kwargs):\n",
    "        print(f\"Param Set {i+1}: \", kwargs)\n",
    "        print(\"\\tusing function \", algorithm_fns[i])\n",
    "\n",
    "    plt.title(plot_title)\n",
    "    plt.xlabel(\"Iteration\")\n",
    "    plt.ylabel(\"Error\")\n",
    "    plt.yscale(\"log\")\n",
    "    plt.grid(True)\n",
    "    plt.legend()\n",
    "    plt.show()"
   ]
  },
  {
   "cell_type": "code",
   "execution_count": 38,
   "metadata": {},
   "outputs": [
    {
     "name": "stdout",
     "output_type": "stream",
     "text": [
      "Phantom shape: 2048\n"
     ]
    },
    {
     "name": "stderr",
     "output_type": "stream",
     "text": [
      "100%|██████████| 49/49 [00:02<00:00, 16.43it/s]\n",
      "100%|██████████| 49/49 [00:04<00:00, 11.12it/s]\n"
     ]
    },
    {
     "name": "stdout",
     "output_type": "stream",
     "text": [
      "-------------------------------------------------------------------------------- \n",
      "* Legend Key\n",
      "Param Set 1:  {'alpha': 0.5, 'beta': 0.4, 'B1': 8, 'B2': 8, 'quantization_fn': <function quantize at 0x7f796b1a8620>, 'iters': 50}\n",
      "\tusing function  <function alternating_mixed_lplr at 0x7f793fb7e598>\n",
      "Param Set 2:  {'alpha': 0.5, 'beta': 0.4, 'B1': 8, 'B2': 8, 'quantization_fn': <function quantize_nf at 0x7f796b14e7b8>, 'iters': 50}\n",
      "\tusing function  <function alternating_mixed_lplr at 0x7f793fb7e598>\n"
     ]
    },
    {
     "data": {
      "image/png": "[encoded data removed]",
      "text/plain": [
       "<Figure size 792x216 with 1 Axes>"
      ]
     },
     "metadata": {},
     "output_type": "display_data"
    }
   ],
   "source": [
    "test_iterative_weight_compression(\n",
    "    [\n",
    "        {\n",
    "            \"alpha\": 0.5, # Fraction of retained columns to be in full precision\n",
    "            \"beta\": 0.4, # Fraction of columns to be retained\n",
    "            \"B1\": 8,\n",
    "            \"B2\": 8,\n",
    "            \"quantization_fn\": quantize,\n",
    "            \"iters\": 50\n",
    "        },\n",
    "        {\n",
    "            \"alpha\": 0.5, # Fraction of retained columns to be in full precision\n",
    "            \"beta\": 0.4, # Fraction of columns to be retained\n",
    "            \"B1\": 8,\n",
    "            \"B2\": 8,\n",
    "            \"quantization_fn\": quantize_nf,\n",
    "            \"iters\": 50\n",
    "        }\n",
    "    ],\n",
    "    algorithm_fns=[\n",
    "        alternating_mixed_lplr, alternating_mixed_lplr\n",
    "    ],\n",
    "    algorithm_types=[\n",
    "        AlgorithmType.LPLR, AlgorithmType.LPLR\n",
    "    ],\n",
    "    plot_title=\"Frobenius Norm Errors over Iterations: LPLR\",\n",
    "    device=DEFAULT_DEVICE\n",
    ")"
   ]
  },
  {
   "cell_type": "code",
   "execution_count": 39,
   "metadata": {},
   "outputs": [
    {
     "name": "stdout",
     "output_type": "stream",
     "text": [
      "Phantom shape: 2048\n"
     ]
    },
    {
     "name": "stderr",
     "output_type": "stream",
     "text": [
      "100%|██████████| 49/49 [00:02<00:00, 20.88it/s]\n",
      "100%|██████████| 49/49 [00:02<00:00, 20.84it/s]\n",
      "100%|██████████| 49/49 [00:02<00:00, 20.73it/s]\n",
      "100%|██████████| 49/49 [00:02<00:00, 20.71it/s]\n",
      "100%|██████████| 49/49 [00:02<00:00, 20.69it/s]\n",
      "100%|██████████| 49/49 [00:02<00:00, 20.62it/s]\n",
      "100%|██████████| 49/49 [00:02<00:00, 20.52it/s]\n",
      "100%|██████████| 49/49 [00:02<00:00, 20.60it/s]\n",
      "100%|██████████| 49/49 [00:02<00:00, 20.64it/s]\n"
     ]
    },
    {
     "name": "stdout",
     "output_type": "stream",
     "text": [
      "-------------------------------------------------------------------------------- \n",
      "* Legend Key\n",
      "Param Set 1:  {'alpha': 0.5, 'beta': 0.31, 'B1': 8, 'B2': 8, 'BQ': 2, 'quantization_fn': <function quantize at 0x7f796b1a8620>, 'inner_iters': 50}\n",
      "\tusing function  <function alternating_mixed_lplr_plus_q at 0x7f793fb2fe18>\n"
     ]
    },
    {
     "data": {
      "image/png": "[encoded data removed]",
      "text/plain": [
       "<Figure size 792x216 with 1 Axes>"
      ]
     },
     "metadata": {},
     "output_type": "display_data"
    }
   ],
   "source": [
    "test_iterative_weight_compression(\n",
    "    [\n",
    "        {\n",
    "            \"alpha\": 0.5, # Fraction of retained columns to be in full precision\n",
    "            \"beta\": 0.31, # Same bitrate as the above cell\n",
    "            \"B1\": 8,\n",
    "            \"B2\": 8,\n",
    "            \"BQ\": 2,\n",
    "            \"quantization_fn\": quantize,\n",
    "            \"inner_iters\": 50\n",
    "        }\n",
    "    ],\n",
    "    algorithm_fns=[alternating_mixed_lplr_plus_q],\n",
    "    algorithm_types=[AlgorithmType.LPLR],\n",
    "    plot_title=\"Frobenius Norm Errors over Iterations: LoftQ w/ LPLR\",\n",
    "    device=DEFAULT_DEVICE\n",
    ")"
   ]
  },
  {
   "cell_type": "code",
   "execution_count": 41,
   "metadata": {},
   "outputs": [
    {
     "name": "stdout",
     "output_type": "stream",
     "text": [
      "Phantom shape: 2048\n"
     ]
    },
    {
     "name": "stderr",
     "output_type": "stream",
     "text": [
      "100%|██████████| 10/10 [00:07<00:00,  1.38it/s]\n"
     ]
    },
    {
     "name": "stdout",
     "output_type": "stream",
     "text": [
      "-------------------------------------------------------------------------------- \n",
      "* Legend Key\n",
      "Param Set 1:  {'B': 4, 'beta': 0.3}\n",
      "\tusing function  <function loftq at 0x7f793fb2ff28>\n"
     ]
    },
    {
     "data": {
      "image/png": "[encoded data removed]",
      "text/plain": [
       "<Figure size 792x216 with 1 Axes>"
      ]
     },
     "metadata": {},
     "output_type": "display_data"
    }
   ],
   "source": [
    "test_iterative_weight_compression(\n",
    "    [\n",
    "        {\"B\": 4, \"beta\": 0.3}\n",
    "    ],\n",
    "    algorithm_fns=[loftq],\n",
    "    algorithm_types=[AlgorithmType.LOFTQ],\n",
    "    plot_title=\"Frobenius Norm Errors over Iterations: LoftQ\",\n",
    "    device=DEFAULT_DEVICE\n",
    ")"
   ]
  },
  {
   "cell_type": "code",
   "execution_count": 42,
   "metadata": {},
   "outputs": [
    {
     "name": "stdout",
     "output_type": "stream",
     "text": [
      "--------------------------------------------------\n"
     ]
    },
    {
     "name": "stderr",
     "output_type": "stream",
     "text": [
      "\u001b[32m2024-01-10 00:06:54.582\u001b[0m | \u001b[1mINFO    \u001b[0m | \u001b[36m__main__\u001b[0m:\u001b[36mlplr_sweep_alpha\u001b[0m:\u001b[36m68\u001b[0m - \u001b[1mB1=4, B2=4, alpha=0.0, beta=0.375\u001b[0m\n",
      "100%|██████████| 49/49 [00:05<00:00,  8.32it/s]\n",
      "\u001b[32m2024-01-10 00:07:01.205\u001b[0m | \u001b[1mINFO    \u001b[0m | \u001b[36m__main__\u001b[0m:\u001b[36mlplr_sweep_alpha\u001b[0m:\u001b[36m77\u001b[0m - \u001b[1mFrobenius norm error: 0.10237274567831414\u001b[0m\n"
     ]
    },
    {
     "name": "stdout",
     "output_type": "stream",
     "text": [
      "--------------------------------------------------\n"
     ]
    },
    {
     "name": "stderr",
     "output_type": "stream",
     "text": [
      "\u001b[32m2024-01-10 00:07:01.206\u001b[0m | \u001b[1mINFO    \u001b[0m | \u001b[36m__main__\u001b[0m:\u001b[36mlplr_sweep_alpha\u001b[0m:\u001b[36m68\u001b[0m - \u001b[1mB1=4, B2=4, alpha=0.1, beta=0.28846154\u001b[0m\n",
      "100%|██████████| 49/49 [00:04<00:00, 11.39it/s]\n",
      "\u001b[32m2024-01-10 00:07:06.182\u001b[0m | \u001b[1mINFO    \u001b[0m | \u001b[36m__main__\u001b[0m:\u001b[36mlplr_sweep_alpha\u001b[0m:\u001b[36m77\u001b[0m - \u001b[1mFrobenius norm error: 0.0724809779755017\u001b[0m\n"
     ]
    },
    {
     "name": "stdout",
     "output_type": "stream",
     "text": [
      "--------------------------------------------------\n"
     ]
    },
    {
     "name": "stderr",
     "output_type": "stream",
     "text": [
      "\u001b[32m2024-01-10 00:07:06.183\u001b[0m | \u001b[1mINFO    \u001b[0m | \u001b[36m__main__\u001b[0m:\u001b[36mlplr_sweep_alpha\u001b[0m:\u001b[36m68\u001b[0m - \u001b[1mB1=4, B2=4, alpha=0.2, beta=0.234375\u001b[0m\n",
      "100%|██████████| 49/49 [00:03<00:00, 15.09it/s]\n",
      "\u001b[32m2024-01-10 00:07:10.076\u001b[0m | \u001b[1mINFO    \u001b[0m | \u001b[36m__main__\u001b[0m:\u001b[36mlplr_sweep_alpha\u001b[0m:\u001b[36m77\u001b[0m - \u001b[1mFrobenius norm error: 0.076938027373532\u001b[0m\n"
     ]
    },
    {
     "name": "stdout",
     "output_type": "stream",
     "text": [
      "--------------------------------------------------\n"
     ]
    },
    {
     "name": "stderr",
     "output_type": "stream",
     "text": [
      "\u001b[32m2024-01-10 00:07:10.077\u001b[0m | \u001b[1mINFO    \u001b[0m | \u001b[36m__main__\u001b[0m:\u001b[36mlplr_sweep_alpha\u001b[0m:\u001b[36m68\u001b[0m - \u001b[1mB1=4, B2=4, alpha=0.3, beta=0.19736842\u001b[0m\n",
      "100%|██████████| 49/49 [00:02<00:00, 17.86it/s]\n",
      "\u001b[32m2024-01-10 00:07:13.451\u001b[0m | \u001b[1mINFO    \u001b[0m | \u001b[36m__main__\u001b[0m:\u001b[36mlplr_sweep_alpha\u001b[0m:\u001b[36m77\u001b[0m - \u001b[1mFrobenius norm error: 0.07591128183275273\u001b[0m\n"
     ]
    },
    {
     "name": "stdout",
     "output_type": "stream",
     "text": [
      "--------------------------------------------------\n"
     ]
    },
    {
     "name": "stderr",
     "output_type": "stream",
     "text": [
      "\u001b[32m2024-01-10 00:07:13.452\u001b[0m | \u001b[1mINFO    \u001b[0m | \u001b[36m__main__\u001b[0m:\u001b[36mlplr_sweep_alpha\u001b[0m:\u001b[36m68\u001b[0m - \u001b[1mB1=4, B2=4, alpha=0.4, beta=0.17045455\u001b[0m\n",
      "100%|██████████| 49/49 [00:02<00:00, 21.50it/s]\n",
      "\u001b[32m2024-01-10 00:07:16.356\u001b[0m | \u001b[1mINFO    \u001b[0m | \u001b[36m__main__\u001b[0m:\u001b[36mlplr_sweep_alpha\u001b[0m:\u001b[36m77\u001b[0m - \u001b[1mFrobenius norm error: 0.08234977133083382\u001b[0m\n"
     ]
    },
    {
     "name": "stdout",
     "output_type": "stream",
     "text": [
      "--------------------------------------------------\n"
     ]
    },
    {
     "name": "stderr",
     "output_type": "stream",
     "text": [
      "\u001b[32m2024-01-10 00:07:16.357\u001b[0m | \u001b[1mINFO    \u001b[0m | \u001b[36m__main__\u001b[0m:\u001b[36mlplr_sweep_alpha\u001b[0m:\u001b[36m68\u001b[0m - \u001b[1mB1=4, B2=4, alpha=0.5, beta=0.15\u001b[0m\n",
      "100%|██████████| 49/49 [00:01<00:00, 25.31it/s]\n",
      "\u001b[32m2024-01-10 00:07:18.908\u001b[0m | \u001b[1mINFO    \u001b[0m | \u001b[36m__main__\u001b[0m:\u001b[36mlplr_sweep_alpha\u001b[0m:\u001b[36m77\u001b[0m - \u001b[1mFrobenius norm error: 0.08488482924599484\u001b[0m\n"
     ]
    },
    {
     "name": "stdout",
     "output_type": "stream",
     "text": [
      "--------------------------------------------------\n"
     ]
    },
    {
     "name": "stderr",
     "output_type": "stream",
     "text": [
      "\u001b[32m2024-01-10 00:07:18.909\u001b[0m | \u001b[1mINFO    \u001b[0m | \u001b[36m__main__\u001b[0m:\u001b[36mlplr_sweep_alpha\u001b[0m:\u001b[36m90\u001b[0m - \u001b[1m[B1=4, B2=4]The best frobenius norm error was for alpha=0.1: 0.0724809779755017\u001b[0m\n"
     ]
    },
    {
     "name": "stdout",
     "output_type": "stream",
     "text": [
      "--------------------------------------------------\n"
     ]
    },
    {
     "name": "stderr",
     "output_type": "stream",
     "text": [
      "\u001b[32m2024-01-10 00:07:18.910\u001b[0m | \u001b[1mINFO    \u001b[0m | \u001b[36m__main__\u001b[0m:\u001b[36mlplr_sweep_alpha\u001b[0m:\u001b[36m68\u001b[0m - \u001b[1mB1=8, B2=8, alpha=0.0, beta=0.1875\u001b[0m\n",
      "100%|██████████| 49/49 [00:02<00:00, 16.88it/s]\n",
      "\u001b[32m2024-01-10 00:07:22.456\u001b[0m | \u001b[1mINFO    \u001b[0m | \u001b[36m__main__\u001b[0m:\u001b[36mlplr_sweep_alpha\u001b[0m:\u001b[36m77\u001b[0m - \u001b[1mFrobenius norm error: 0.03630544976304997\u001b[0m\n"
     ]
    },
    {
     "name": "stdout",
     "output_type": "stream",
     "text": [
      "--------------------------------------------------\n"
     ]
    },
    {
     "name": "stderr",
     "output_type": "stream",
     "text": [
      "\u001b[32m2024-01-10 00:07:22.457\u001b[0m | \u001b[1mINFO    \u001b[0m | \u001b[36m__main__\u001b[0m:\u001b[36mlplr_sweep_alpha\u001b[0m:\u001b[36m68\u001b[0m - \u001b[1mB1=8, B2=8, alpha=0.1, beta=0.17045455\u001b[0m\n",
      "100%|██████████| 49/49 [00:02<00:00, 19.16it/s]\n",
      "\u001b[32m2024-01-10 00:07:25.647\u001b[0m | \u001b[1mINFO    \u001b[0m | \u001b[36m__main__\u001b[0m:\u001b[36mlplr_sweep_alpha\u001b[0m:\u001b[36m77\u001b[0m - \u001b[1mFrobenius norm error: 0.04145882305411913\u001b[0m\n"
     ]
    },
    {
     "name": "stdout",
     "output_type": "stream",
     "text": [
      "--------------------------------------------------\n"
     ]
    },
    {
     "name": "stderr",
     "output_type": "stream",
     "text": [
      "\u001b[32m2024-01-10 00:07:25.648\u001b[0m | \u001b[1mINFO    \u001b[0m | \u001b[36m__main__\u001b[0m:\u001b[36mlplr_sweep_alpha\u001b[0m:\u001b[36m68\u001b[0m - \u001b[1mB1=8, B2=8, alpha=0.2, beta=0.15625\u001b[0m\n",
      "100%|██████████| 49/49 [00:02<00:00, 21.89it/s]\n",
      "\u001b[32m2024-01-10 00:07:28.507\u001b[0m | \u001b[1mINFO    \u001b[0m | \u001b[36m__main__\u001b[0m:\u001b[36mlplr_sweep_alpha\u001b[0m:\u001b[36m77\u001b[0m - \u001b[1mFrobenius norm error: 0.0465036880104662\u001b[0m\n"
     ]
    },
    {
     "name": "stdout",
     "output_type": "stream",
     "text": [
      "--------------------------------------------------\n"
     ]
    },
    {
     "name": "stderr",
     "output_type": "stream",
     "text": [
      "\u001b[32m2024-01-10 00:07:28.508\u001b[0m | \u001b[1mINFO    \u001b[0m | \u001b[36m__main__\u001b[0m:\u001b[36mlplr_sweep_alpha\u001b[0m:\u001b[36m68\u001b[0m - \u001b[1mB1=8, B2=8, alpha=0.3, beta=0.14423077\u001b[0m\n",
      "100%|██████████| 49/49 [00:01<00:00, 24.71it/s]\n",
      "\u001b[32m2024-01-10 00:07:31.113\u001b[0m | \u001b[1mINFO    \u001b[0m | \u001b[36m__main__\u001b[0m:\u001b[36mlplr_sweep_alpha\u001b[0m:\u001b[36m77\u001b[0m - \u001b[1mFrobenius norm error: 0.05081881497180889\u001b[0m\n"
     ]
    },
    {
     "name": "stdout",
     "output_type": "stream",
     "text": [
      "--------------------------------------------------\n"
     ]
    },
    {
     "name": "stderr",
     "output_type": "stream",
     "text": [
      "\u001b[32m2024-01-10 00:07:31.115\u001b[0m | \u001b[1mINFO    \u001b[0m | \u001b[36m__main__\u001b[0m:\u001b[36mlplr_sweep_alpha\u001b[0m:\u001b[36m68\u001b[0m - \u001b[1mB1=8, B2=8, alpha=0.4, beta=0.13392857\u001b[0m\n",
      "100%|██████████| 49/49 [00:01<00:00, 27.51it/s]\n",
      "\u001b[32m2024-01-10 00:07:33.512\u001b[0m | \u001b[1mINFO    \u001b[0m | \u001b[36m__main__\u001b[0m:\u001b[36mlplr_sweep_alpha\u001b[0m:\u001b[36m77\u001b[0m - \u001b[1mFrobenius norm error: 0.05476416401411521\u001b[0m\n"
     ]
    },
    {
     "name": "stdout",
     "output_type": "stream",
     "text": [
      "--------------------------------------------------\n"
     ]
    },
    {
     "name": "stderr",
     "output_type": "stream",
     "text": [
      "\u001b[32m2024-01-10 00:07:33.513\u001b[0m | \u001b[1mINFO    \u001b[0m | \u001b[36m__main__\u001b[0m:\u001b[36mlplr_sweep_alpha\u001b[0m:\u001b[36m68\u001b[0m - \u001b[1mB1=8, B2=8, alpha=0.5, beta=0.125\u001b[0m\n",
      "100%|██████████| 49/49 [00:01<00:00, 29.99it/s]\n",
      "\u001b[32m2024-01-10 00:07:35.759\u001b[0m | \u001b[1mINFO    \u001b[0m | \u001b[36m__main__\u001b[0m:\u001b[36mlplr_sweep_alpha\u001b[0m:\u001b[36m77\u001b[0m - \u001b[1mFrobenius norm error: 0.05842985986919176\u001b[0m\n"
     ]
    },
    {
     "name": "stdout",
     "output_type": "stream",
     "text": [
      "--------------------------------------------------\n"
     ]
    },
    {
     "name": "stderr",
     "output_type": "stream",
     "text": [
      "\u001b[32m2024-01-10 00:07:35.760\u001b[0m | \u001b[1mINFO    \u001b[0m | \u001b[36m__main__\u001b[0m:\u001b[36mlplr_sweep_alpha\u001b[0m:\u001b[36m90\u001b[0m - \u001b[1m[B1=8, B2=8]The best frobenius norm error was for alpha=0.0: 0.03630544976304997\u001b[0m\n"
     ]
    },
    {
     "name": "stdout",
     "output_type": "stream",
     "text": [
      "--------------------------------------------------\n"
     ]
    },
    {
     "name": "stderr",
     "output_type": "stream",
     "text": [
      "\u001b[32m2024-01-10 00:07:35.761\u001b[0m | \u001b[1mINFO    \u001b[0m | \u001b[36m__main__\u001b[0m:\u001b[36mlplr_sweep_alpha_and_B\u001b[0m:\u001b[36m132\u001b[0m - \u001b[1mThe best frobenius norm error was for B=8, alpha=0.0: 0.03630544976304997\u001b[0m\n"
     ]
    }
   ],
   "source": [
    "### Do some hyperparameter sweeps on the Shepp-Logan matrix\n",
    "X = torch.Tensor(shepp_logan(2048)).to(DEFAULT_DEVICE)\n",
    "average_bit_level = 3\n",
    "budget = X.shape[0] * X.shape[1] * average_bit_level\n",
    "\n",
    "mtxs, alpha, beta, B, error = lplr_sweep_alpha_and_B(\n",
    "    X=X, budget=budget,\n",
    "    kwarg_dict={\"quantization_fn\": quantize_nf, \"iters\":50, \"normalize_and_shift\": True},\n",
    "    lplr_type=LplrType.ALTERNATING_MIXED,\n",
    "    debug=True\n",
    ")"
   ]
  },
  {
   "cell_type": "code",
   "execution_count": 43,
   "metadata": {},
   "outputs": [
    {
     "name": "stdout",
     "output_type": "stream",
     "text": [
      "--------------------------------------------------\n"
     ]
    },
    {
     "name": "stderr",
     "output_type": "stream",
     "text": [
      "\u001b[32m2024-01-10 00:08:13.789\u001b[0m | \u001b[1mINFO    \u001b[0m | \u001b[36m__main__\u001b[0m:\u001b[36mlplr_sweep_alpha\u001b[0m:\u001b[36m68\u001b[0m - \u001b[1mB1=4, B2=4, alpha=0.0, beta=0.125\u001b[0m\n"
     ]
    },
    {
     "name": "stderr",
     "output_type": "stream",
     "text": [
      "100%|██████████| 49/49 [00:02<00:00, 23.77it/s]\n",
      "100%|██████████| 49/49 [00:02<00:00, 24.19it/s]\n",
      "100%|██████████| 49/49 [00:02<00:00, 23.68it/s]\n",
      "100%|██████████| 49/49 [00:02<00:00, 24.16it/s]\n",
      "\u001b[32m2024-01-10 00:08:24.944\u001b[0m | \u001b[1mINFO    \u001b[0m | \u001b[36m__main__\u001b[0m:\u001b[36mlplr_sweep_alpha\u001b[0m:\u001b[36m77\u001b[0m - \u001b[1mFrobenius norm error: 0.03542317096926012\u001b[0m\n"
     ]
    },
    {
     "name": "stdout",
     "output_type": "stream",
     "text": [
      "--------------------------------------------------\n"
     ]
    },
    {
     "name": "stderr",
     "output_type": "stream",
     "text": [
      "\u001b[32m2024-01-10 00:08:24.945\u001b[0m | \u001b[1mINFO    \u001b[0m | \u001b[36m__main__\u001b[0m:\u001b[36mlplr_sweep_alpha\u001b[0m:\u001b[36m68\u001b[0m - \u001b[1mB1=4, B2=4, alpha=0.1, beta=0.09615385\u001b[0m\n",
      "100%|██████████| 49/49 [00:01<00:00, 30.95it/s]\n",
      "100%|██████████| 49/49 [00:01<00:00, 31.37it/s]\n",
      "100%|██████████| 49/49 [00:01<00:00, 31.78it/s]\n",
      "100%|██████████| 49/49 [00:01<00:00, 31.54it/s]\n",
      "\u001b[32m2024-01-10 00:08:34.054\u001b[0m | \u001b[1mINFO    \u001b[0m | \u001b[36m__main__\u001b[0m:\u001b[36mlplr_sweep_alpha\u001b[0m:\u001b[36m77\u001b[0m - \u001b[1mFrobenius norm error: 0.033660055936151845\u001b[0m\n"
     ]
    },
    {
     "name": "stdout",
     "output_type": "stream",
     "text": [
      "--------------------------------------------------\n"
     ]
    },
    {
     "name": "stderr",
     "output_type": "stream",
     "text": [
      "\u001b[32m2024-01-10 00:08:34.055\u001b[0m | \u001b[1mINFO    \u001b[0m | \u001b[36m__main__\u001b[0m:\u001b[36mlplr_sweep_alpha\u001b[0m:\u001b[36m68\u001b[0m - \u001b[1mB1=4, B2=4, alpha=0.2, beta=0.078125\u001b[0m\n",
      "100%|██████████| 49/49 [00:01<00:00, 39.16it/s]\n",
      "100%|██████████| 49/49 [00:01<00:00, 39.12it/s]\n",
      "100%|██████████| 49/49 [00:01<00:00, 39.48it/s]\n",
      "100%|██████████| 49/49 [00:01<00:00, 39.51it/s]\n",
      "\u001b[32m2024-01-10 00:08:41.927\u001b[0m | \u001b[1mINFO    \u001b[0m | \u001b[36m__main__\u001b[0m:\u001b[36mlplr_sweep_alpha\u001b[0m:\u001b[36m77\u001b[0m - \u001b[1mFrobenius norm error: 0.03667451408630801\u001b[0m\n"
     ]
    },
    {
     "name": "stdout",
     "output_type": "stream",
     "text": [
      "--------------------------------------------------\n"
     ]
    },
    {
     "name": "stderr",
     "output_type": "stream",
     "text": [
      "\u001b[32m2024-01-10 00:08:41.928\u001b[0m | \u001b[1mINFO    \u001b[0m | \u001b[36m__main__\u001b[0m:\u001b[36mlplr_sweep_alpha\u001b[0m:\u001b[36m68\u001b[0m - \u001b[1mB1=4, B2=4, alpha=0.3, beta=0.06578947\u001b[0m\n",
      "100%|██████████| 49/49 [00:01<00:00, 46.89it/s]\n",
      "100%|██████████| 49/49 [00:01<00:00, 46.10it/s]\n",
      "100%|██████████| 49/49 [00:01<00:00, 47.39it/s]\n",
      "100%|██████████| 49/49 [00:01<00:00, 46.80it/s]\n",
      "\u001b[32m2024-01-10 00:08:48.926\u001b[0m | \u001b[1mINFO    \u001b[0m | \u001b[36m__main__\u001b[0m:\u001b[36mlplr_sweep_alpha\u001b[0m:\u001b[36m77\u001b[0m - \u001b[1mFrobenius norm error: 0.03445423679546778\u001b[0m\n"
     ]
    },
    {
     "name": "stdout",
     "output_type": "stream",
     "text": [
      "--------------------------------------------------\n"
     ]
    },
    {
     "name": "stderr",
     "output_type": "stream",
     "text": [
      "\u001b[32m2024-01-10 00:08:48.927\u001b[0m | \u001b[1mINFO    \u001b[0m | \u001b[36m__main__\u001b[0m:\u001b[36mlplr_sweep_alpha\u001b[0m:\u001b[36m68\u001b[0m - \u001b[1mB1=4, B2=4, alpha=0.4, beta=0.05681818\u001b[0m\n",
      "100%|██████████| 49/49 [00:00<00:00, 53.65it/s]\n",
      "100%|██████████| 49/49 [00:00<00:00, 51.68it/s]\n",
      "100%|██████████| 49/49 [00:00<00:00, 52.43it/s]\n",
      "100%|██████████| 49/49 [00:00<00:00, 52.79it/s]\n",
      "\u001b[32m2024-01-10 00:08:55.486\u001b[0m | \u001b[1mINFO    \u001b[0m | \u001b[36m__main__\u001b[0m:\u001b[36mlplr_sweep_alpha\u001b[0m:\u001b[36m77\u001b[0m - \u001b[1mFrobenius norm error: 0.03536474734352782\u001b[0m\n"
     ]
    },
    {
     "name": "stdout",
     "output_type": "stream",
     "text": [
      "--------------------------------------------------\n"
     ]
    },
    {
     "name": "stderr",
     "output_type": "stream",
     "text": [
      "\u001b[32m2024-01-10 00:08:55.487\u001b[0m | \u001b[1mINFO    \u001b[0m | \u001b[36m__main__\u001b[0m:\u001b[36mlplr_sweep_alpha\u001b[0m:\u001b[36m68\u001b[0m - \u001b[1mB1=4, B2=4, alpha=0.5, beta=0.05\u001b[0m\n",
      "100%|██████████| 49/49 [00:00<00:00, 60.86it/s]\n",
      "100%|██████████| 49/49 [00:00<00:00, 61.58it/s]\n",
      "100%|██████████| 49/49 [00:00<00:00, 60.64it/s]\n",
      "100%|██████████| 49/49 [00:00<00:00, 61.83it/s]\n",
      "\u001b[32m2024-01-10 00:09:01.500\u001b[0m | \u001b[1mINFO    \u001b[0m | \u001b[36m__main__\u001b[0m:\u001b[36mlplr_sweep_alpha\u001b[0m:\u001b[36m77\u001b[0m - \u001b[1mFrobenius norm error: 0.039276066959792334\u001b[0m\n"
     ]
    },
    {
     "name": "stdout",
     "output_type": "stream",
     "text": [
      "--------------------------------------------------\n"
     ]
    },
    {
     "name": "stderr",
     "output_type": "stream",
     "text": [
      "\u001b[32m2024-01-10 00:09:01.501\u001b[0m | \u001b[1mINFO    \u001b[0m | \u001b[36m__main__\u001b[0m:\u001b[36mlplr_sweep_alpha\u001b[0m:\u001b[36m90\u001b[0m - \u001b[1m[B1=4, B2=4]The best frobenius norm error was for alpha=0.1: 0.033660055936151845\u001b[0m\n"
     ]
    },
    {
     "name": "stdout",
     "output_type": "stream",
     "text": [
      "--------------------------------------------------\n"
     ]
    },
    {
     "name": "stderr",
     "output_type": "stream",
     "text": [
      "\u001b[32m2024-01-10 00:09:01.502\u001b[0m | \u001b[1mINFO    \u001b[0m | \u001b[36m__main__\u001b[0m:\u001b[36mlplr_sweep_alpha\u001b[0m:\u001b[36m68\u001b[0m - \u001b[1mB1=8, B2=8, alpha=0.0, beta=0.0625\u001b[0m\n",
      "100%|██████████| 49/49 [00:01<00:00, 43.62it/s]\n",
      "100%|██████████| 49/49 [00:01<00:00, 44.43it/s]\n",
      "100%|██████████| 49/49 [00:01<00:00, 44.82it/s]\n",
      "100%|██████████| 49/49 [00:01<00:00, 42.33it/s]\n",
      "\u001b[32m2024-01-10 00:09:08.827\u001b[0m | \u001b[1mINFO    \u001b[0m | \u001b[36m__main__\u001b[0m:\u001b[36mlplr_sweep_alpha\u001b[0m:\u001b[36m77\u001b[0m - \u001b[1mFrobenius norm error: 0.02313032526667879\u001b[0m\n"
     ]
    },
    {
     "name": "stdout",
     "output_type": "stream",
     "text": [
      "--------------------------------------------------\n"
     ]
    },
    {
     "name": "stderr",
     "output_type": "stream",
     "text": [
      "\u001b[32m2024-01-10 00:09:08.828\u001b[0m | \u001b[1mINFO    \u001b[0m | \u001b[36m__main__\u001b[0m:\u001b[36mlplr_sweep_alpha\u001b[0m:\u001b[36m68\u001b[0m - \u001b[1mB1=8, B2=8, alpha=0.1, beta=0.05681818\u001b[0m\n",
      "100%|██████████| 49/49 [00:01<00:00, 48.40it/s]\n",
      "100%|██████████| 49/49 [00:00<00:00, 49.15it/s]\n",
      "100%|██████████| 49/49 [00:01<00:00, 47.91it/s]\n",
      "100%|██████████| 49/49 [00:01<00:00, 47.59it/s]\n",
      "\u001b[32m2024-01-10 00:09:15.730\u001b[0m | \u001b[1mINFO    \u001b[0m | \u001b[36m__main__\u001b[0m:\u001b[36mlplr_sweep_alpha\u001b[0m:\u001b[36m77\u001b[0m - \u001b[1mFrobenius norm error: 0.02424138032374649\u001b[0m\n"
     ]
    },
    {
     "name": "stdout",
     "output_type": "stream",
     "text": [
      "--------------------------------------------------\n"
     ]
    },
    {
     "name": "stderr",
     "output_type": "stream",
     "text": [
      "\u001b[32m2024-01-10 00:09:15.731\u001b[0m | \u001b[1mINFO    \u001b[0m | \u001b[36m__main__\u001b[0m:\u001b[36mlplr_sweep_alpha\u001b[0m:\u001b[36m68\u001b[0m - \u001b[1mB1=8, B2=8, alpha=0.2, beta=0.05208333\u001b[0m\n",
      "100%|██████████| 49/49 [00:00<00:00, 53.57it/s]\n",
      "100%|██████████| 49/49 [00:00<00:00, 54.31it/s]\n",
      "100%|██████████| 49/49 [00:00<00:00, 53.20it/s]\n",
      "100%|██████████| 49/49 [00:00<00:00, 53.52it/s]\n",
      "\u001b[32m2024-01-10 00:09:22.215\u001b[0m | \u001b[1mINFO    \u001b[0m | \u001b[36m__main__\u001b[0m:\u001b[36mlplr_sweep_alpha\u001b[0m:\u001b[36m77\u001b[0m - \u001b[1mFrobenius norm error: 0.025382145134843243\u001b[0m\n"
     ]
    },
    {
     "name": "stdout",
     "output_type": "stream",
     "text": [
      "--------------------------------------------------\n"
     ]
    },
    {
     "name": "stderr",
     "output_type": "stream",
     "text": [
      "\u001b[32m2024-01-10 00:09:22.216\u001b[0m | \u001b[1mINFO    \u001b[0m | \u001b[36m__main__\u001b[0m:\u001b[36mlplr_sweep_alpha\u001b[0m:\u001b[36m68\u001b[0m - \u001b[1mB1=8, B2=8, alpha=0.3, beta=0.04807692\u001b[0m\n",
      "100%|██████████| 49/49 [00:00<00:00, 58.40it/s]\n",
      "100%|██████████| 49/49 [00:00<00:00, 58.71it/s]\n",
      "100%|██████████| 49/49 [00:00<00:00, 57.91it/s]\n",
      "100%|██████████| 49/49 [00:00<00:00, 58.25it/s]\n",
      "\u001b[32m2024-01-10 00:09:28.354\u001b[0m | \u001b[1mINFO    \u001b[0m | \u001b[36m__main__\u001b[0m:\u001b[36mlplr_sweep_alpha\u001b[0m:\u001b[36m77\u001b[0m - \u001b[1mFrobenius norm error: 0.02642767781316451\u001b[0m\n"
     ]
    },
    {
     "name": "stdout",
     "output_type": "stream",
     "text": [
      "--------------------------------------------------\n"
     ]
    },
    {
     "name": "stderr",
     "output_type": "stream",
     "text": [
      "\u001b[32m2024-01-10 00:09:28.355\u001b[0m | \u001b[1mINFO    \u001b[0m | \u001b[36m__main__\u001b[0m:\u001b[36mlplr_sweep_alpha\u001b[0m:\u001b[36m68\u001b[0m - \u001b[1mB1=8, B2=8, alpha=0.4, beta=0.04464286\u001b[0m\n",
      "100%|██████████| 49/49 [00:00<00:00, 65.05it/s]\n",
      "100%|██████████| 49/49 [00:00<00:00, 63.29it/s]\n",
      "100%|██████████| 49/49 [00:00<00:00, 61.49it/s]\n",
      "100%|██████████| 49/49 [00:00<00:00, 63.10it/s]\n",
      "\u001b[32m2024-01-10 00:09:34.293\u001b[0m | \u001b[1mINFO    \u001b[0m | \u001b[36m__main__\u001b[0m:\u001b[36mlplr_sweep_alpha\u001b[0m:\u001b[36m77\u001b[0m - \u001b[1mFrobenius norm error: 0.027458730420898615\u001b[0m\n"
     ]
    },
    {
     "name": "stdout",
     "output_type": "stream",
     "text": [
      "--------------------------------------------------\n"
     ]
    },
    {
     "name": "stderr",
     "output_type": "stream",
     "text": [
      "\u001b[32m2024-01-10 00:09:34.295\u001b[0m | \u001b[1mINFO    \u001b[0m | \u001b[36m__main__\u001b[0m:\u001b[36mlplr_sweep_alpha\u001b[0m:\u001b[36m68\u001b[0m - \u001b[1mB1=8, B2=8, alpha=0.5, beta=0.04166667\u001b[0m\n",
      "100%|██████████| 49/49 [00:00<00:00, 70.90it/s]\n",
      "100%|██████████| 49/49 [00:00<00:00, 69.20it/s]\n",
      "100%|██████████| 49/49 [00:00<00:00, 69.97it/s]\n",
      "100%|██████████| 49/49 [00:00<00:00, 68.76it/s]\n",
      "\u001b[32m2024-01-10 00:09:39.865\u001b[0m | \u001b[1mINFO    \u001b[0m | \u001b[36m__main__\u001b[0m:\u001b[36mlplr_sweep_alpha\u001b[0m:\u001b[36m77\u001b[0m - \u001b[1mFrobenius norm error: 0.028427425765382063\u001b[0m\n"
     ]
    },
    {
     "name": "stdout",
     "output_type": "stream",
     "text": [
      "--------------------------------------------------\n"
     ]
    },
    {
     "name": "stderr",
     "output_type": "stream",
     "text": [
      "\u001b[32m2024-01-10 00:09:39.866\u001b[0m | \u001b[1mINFO    \u001b[0m | \u001b[36m__main__\u001b[0m:\u001b[36mlplr_sweep_alpha\u001b[0m:\u001b[36m90\u001b[0m - \u001b[1m[B1=8, B2=8]The best frobenius norm error was for alpha=0.0: 0.02313032526667879\u001b[0m\n"
     ]
    },
    {
     "name": "stdout",
     "output_type": "stream",
     "text": [
      "--------------------------------------------------\n"
     ]
    },
    {
     "name": "stderr",
     "output_type": "stream",
     "text": [
      "\u001b[32m2024-01-10 00:09:39.867\u001b[0m | \u001b[1mINFO    \u001b[0m | \u001b[36m__main__\u001b[0m:\u001b[36mlplr_sweep_alpha_and_B\u001b[0m:\u001b[36m132\u001b[0m - \u001b[1mThe best frobenius norm error was for B=8, alpha=0.0: 0.02313032526667879\u001b[0m\n"
     ]
    }
   ],
   "source": [
    "mtxs, alpha, beta, B, error = lplr_sweep_alpha_and_B(\n",
    "    X=X, budget=budget,\n",
    "    kwarg_dict={\"quantization_fn\": quantize_nf, \"inner_iters\":50, \"outer_iters\":5, \"normalize_and_shift\": True, \"BQ\": 2},\n",
    "    lplr_type=LplrType.WITH_Q,\n",
    "    debug=True\n",
    ")"
   ]
  },
  {
   "cell_type": "code",
   "execution_count": 44,
   "metadata": {},
   "outputs": [],
   "source": [
    "def compare_against_benchmarks_list(\n",
    "    X_list:list = [],\n",
    "    average_bit_level:int = 3,\n",
    "    benchmarkers=[],\n",
    "    reset_error_lists = True\n",
    "):\n",
    "    if reset_error_lists:\n",
    "        for benchmarker in benchmarkers:\n",
    "            benchmarker.reset_errors()\n",
    "\n",
    "    for X in X_list:\n",
    "        n, d = X.size()\n",
    "        budget = n*d*average_bit_level\n",
    "\n",
    "        for benchmarker in benchmarkers:\n",
    "            benchmarker.run(X, budget)\n",
    "            \n",
    "    for benchmarker in benchmarkers:\n",
    "        print(f\"{benchmarker.label}: {benchmarker.errors}\")"
   ]
  },
  {
   "cell_type": "code",
   "execution_count": 51,
   "metadata": {},
   "outputs": [],
   "source": [
    "def compare_against_benchmarkers_model(\n",
    "    model_directory:pathlib.Path,\n",
    "    average_bit_level:int = 3,\n",
    "    benchmarkers:list = [],\n",
    "    reset_error_lists:bool = False,\n",
    "    device=\"cpu\",\n",
    "    layer_limit:int = -1, # Limits the number of weight matrices used\n",
    "                          # for benchmarking (mainly for debugging purposes).\n",
    "                          # -1 means no limit.\n",
    "    max_num_cols:int = -1 # for debugging\n",
    "):\n",
    "    if reset_error_lists:\n",
    "        for benchmarker in benchmarkers:\n",
    "            benchmarker.reset_errors()\n",
    "            \n",
    "    model_files = natsorted(model_directory.glob(\"*.bin\"), alg=ns.IC)\n",
    "    layer_count = 0\n",
    "\n",
    "    for f in model_files:\n",
    "        layer_set = torch.load(f, map_location=device)\n",
    "        for name, X in layer_set.items():\n",
    "            if X.dim() != 2:\n",
    "                continue\n",
    "            logger.info(f\"{name}: {X.shape}\")\n",
    "            if X.shape[0] < X.shape[1]:\n",
    "                X = X.T\n",
    "            n, d = X.size()\n",
    "            assert n >=d\n",
    "\n",
    "            if max_num_cols > 0 and n > max_num_cols:\n",
    "                logger.info(\"Layer larger than maximum size specified, skipping.\")\n",
    "                break\n",
    "\n",
    "            budget = n*d*average_bit_level\n",
    "\n",
    "            X = X.float()\n",
    "\n",
    "            layer_count += 1\n",
    "            if layer_limit > 0 and layer_count > layer_limit:\n",
    "                logger.info(\"Reached layer limit, exiting.\")\n",
    "                return\n",
    "            \n",
    "            for benchmarker in benchmarkers:\n",
    "                benchmarker.run(X, budget)"
   ]
  },
  {
   "cell_type": "code",
   "execution_count": 52,
   "metadata": {},
   "outputs": [],
   "source": [
    "benchmarkers = [\n",
    "        LplrBenchmarker(\n",
    "            LplrType.ALTERNATING_MIXED,\n",
    "            {\n",
    "                \"quantization_fn\": quantize_nf,\n",
    "                \"iters\": 50,\n",
    "                \"alpha_start\": 0,\n",
    "                \"alpha_stop\": 0.5,\n",
    "                \"alpha_step\": 0.1,\n",
    "                \"prune\": True\n",
    "            }\n",
    "        ),\n",
    "        LplrBenchmarker(\n",
    "            LplrType.DIRECT_SVD,\n",
    "            {\n",
    "                \"quantization_fn\": quantize_nf,\n",
    "                \"alpha_start\": 0,\n",
    "                \"alpha_stop\": 0.5,\n",
    "                \"alpha_step\": 0.1,\n",
    "                \"prune\": True\n",
    "            }\n",
    "        ),\n",
    "        LplrBenchmarker(\n",
    "            LplrType.WITH_Q,\n",
    "            {\n",
    "                \"quantization_fn\": quantize_nf,\n",
    "                \"alpha_start\": 0,\n",
    "                \"alpha_stop\": 0.5,\n",
    "                \"alpha_step\": 0.1,\n",
    "                \"prune\": True,\n",
    "                \"inner_iters\": 30,\n",
    "                \"outer_iters\": 5,\n",
    "                \"BQ\": 2\n",
    "            }\n",
    "        ),\n",
    "        FullQuantBenchmarker(\n",
    "            {\n",
    "                \"quantization_fn\": quantize,\n",
    "            },\n",
    "            label=\"Uniform Quantization\"\n",
    "        ),\n",
    "        FullQuantBenchmarker(\n",
    "            {\n",
    "                \"quantization_fn\": quantize_nf\n",
    "            },\n",
    "            label=\"Normal Float Quantization\"\n",
    "        ),\n",
    "        LoftqBenchmarker(\n",
    "            {\n",
    "                \"quantization_fn\": quantize_nf,\n",
    "                \"B\": 2,\n",
    "                \"iters\": 10\n",
    "            },\n",
    "            label=\"LoftQ (B=2)\"\n",
    "        ),\n",
    "    ]"
   ]
  },
  {
   "cell_type": "code",
   "execution_count": 53,
   "metadata": {},
   "outputs": [
    {
     "name": "stderr",
     "output_type": "stream",
     "text": [
      "\u001b[32m2024-01-10 11:15:23.901\u001b[0m | \u001b[1mINFO    \u001b[0m | \u001b[36m__main__\u001b[0m:\u001b[36mcompare_against_benchmarkers_model\u001b[0m:\u001b[36m24\u001b[0m - \u001b[1mmodel.embed_tokens.weight: torch.Size([32000, 4096])\u001b[0m\n",
      "\u001b[32m2024-01-10 11:15:23.902\u001b[0m | \u001b[1mINFO    \u001b[0m | \u001b[36m__main__\u001b[0m:\u001b[36mcompare_against_benchmarkers_model\u001b[0m:\u001b[36m31\u001b[0m - \u001b[1mLayer larger than maximum size specified, skipping.\u001b[0m\n",
      "\u001b[32m2024-01-10 11:15:34.068\u001b[0m | \u001b[1mINFO    \u001b[0m | \u001b[36m__main__\u001b[0m:\u001b[36mcompare_against_benchmarkers_model\u001b[0m:\u001b[36m24\u001b[0m - \u001b[1mmodel.layers.3.mlp.down_proj.weight: torch.Size([4096, 14336])\u001b[0m\n",
      "  0%|          | 0/49 [00:00<?, ?it/s]\u001b[32m2024-01-10 11:15:40.554\u001b[0m | \u001b[31m\u001b[1mERROR   \u001b[0m | \u001b[36mweight_compressors\u001b[0m:\u001b[36malternating_mixed_lplr\u001b[0m:\u001b[36m99\u001b[0m - \u001b[31m\u001b[1mNaNs encountered in finding unquantized L. Giving up.\u001b[0m\n",
      "  0%|          | 0/49 [00:00<?, ?it/s]\n",
      " 65%|██████▌   | 32/49 [00:56<00:29,  1.76s/it]\n"
     ]
    },
    {
     "ename": "KeyboardInterrupt",
     "evalue": "",
     "output_type": "error",
     "traceback": [
      "\u001b[0;31m---------------------------------------------------------------------------\u001b[0m",
      "\u001b[0;31mKeyboardInterrupt\u001b[0m                         Traceback (most recent call last)",
      "\u001b[0;32m<ipython-input-53-7828365a3465>\u001b[0m in \u001b[0;36m<module>\u001b[0;34m()\u001b[0m\n\u001b[1;32m      7\u001b[0m     \u001b[0mdevice\u001b[0m\u001b[0;34m=\u001b[0m\u001b[0mDEFAULT_DEVICE\u001b[0m\u001b[0;34m,\u001b[0m\u001b[0;34m\u001b[0m\u001b[0;34m\u001b[0m\u001b[0m\n\u001b[1;32m      8\u001b[0m     \u001b[0mlayer_limit\u001b[0m\u001b[0;34m=\u001b[0m\u001b[0;36m5\u001b[0m\u001b[0;34m,\u001b[0m\u001b[0;34m\u001b[0m\u001b[0;34m\u001b[0m\u001b[0m\n\u001b[0;32m----> 9\u001b[0;31m     \u001b[0mmax_num_cols\u001b[0m\u001b[0;34m=\u001b[0m\u001b[0;36m15000\u001b[0m\u001b[0;34m\u001b[0m\u001b[0;34m\u001b[0m\u001b[0m\n\u001b[0m\u001b[1;32m     10\u001b[0m )\n",
      "\u001b[0;32m<ipython-input-51-66597b4b8cae>\u001b[0m in \u001b[0;36mcompare_against_benchmarkers_model\u001b[0;34m(model_directory, average_bit_level, benchmarkers, reset_error_lists, device, layer_limit, max_num_cols)\u001b[0m\n\u001b[1;32m     42\u001b[0m \u001b[0;34m\u001b[0m\u001b[0m\n\u001b[1;32m     43\u001b[0m             \u001b[0;32mfor\u001b[0m \u001b[0mbenchmarker\u001b[0m \u001b[0;32min\u001b[0m \u001b[0mbenchmarkers\u001b[0m\u001b[0;34m:\u001b[0m\u001b[0;34m\u001b[0m\u001b[0;34m\u001b[0m\u001b[0m\n\u001b[0;32m---> 44\u001b[0;31m                 \u001b[0mbenchmarker\u001b[0m\u001b[0;34m.\u001b[0m\u001b[0mrun\u001b[0m\u001b[0;34m(\u001b[0m\u001b[0mX\u001b[0m\u001b[0;34m,\u001b[0m \u001b[0mbudget\u001b[0m\u001b[0;34m)\u001b[0m\u001b[0;34m\u001b[0m\u001b[0;34m\u001b[0m\u001b[0m\n\u001b[0m",
      "\u001b[0;32m/home/nsagan/experiments/benchmarkers.py\u001b[0m in \u001b[0;36mrun\u001b[0;34m(self, X, budget)\u001b[0m\n\u001b[1;32m     70\u001b[0m         _, _, _, _, error = lplr_sweep_alpha_and_B(\n\u001b[1;32m     71\u001b[0m             \u001b[0mX\u001b[0m\u001b[0;34m=\u001b[0m\u001b[0mX\u001b[0m\u001b[0;34m,\u001b[0m \u001b[0mbudget\u001b[0m\u001b[0;34m=\u001b[0m\u001b[0mbudget\u001b[0m\u001b[0;34m,\u001b[0m \u001b[0mkwarg_dict\u001b[0m\u001b[0;34m=\u001b[0m\u001b[0mlplr_kwargs\u001b[0m\u001b[0;34m,\u001b[0m\u001b[0;34m\u001b[0m\u001b[0;34m\u001b[0m\u001b[0m\n\u001b[0;32m---> 72\u001b[0;31m             \u001b[0mlplr_type\u001b[0m\u001b[0;34m=\u001b[0m\u001b[0mself\u001b[0m\u001b[0;34m.\u001b[0m\u001b[0mlplr_type\u001b[0m\u001b[0;34m,\u001b[0m \u001b[0;34m**\u001b[0m\u001b[0msweep_kwargs\u001b[0m\u001b[0;34m\u001b[0m\u001b[0;34m\u001b[0m\u001b[0m\n\u001b[0m\u001b[1;32m     73\u001b[0m         )\n\u001b[1;32m     74\u001b[0m         \u001b[0mself\u001b[0m\u001b[0;34m.\u001b[0m\u001b[0merrors\u001b[0m\u001b[0;34m.\u001b[0m\u001b[0mappend\u001b[0m\u001b[0;34m(\u001b[0m\u001b[0merror\u001b[0m\u001b[0;34m)\u001b[0m\u001b[0;34m\u001b[0m\u001b[0;34m\u001b[0m\u001b[0m\n",
      "\u001b[0;32m/home/nsagan/experiments/hyperparameter_sweeps.py\u001b[0m in \u001b[0;36mlplr_sweep_alpha_and_B\u001b[0;34m(X, budget, kwarg_dict, alpha_start, alpha_stop, alpha_step, B_options, lplr_type, prune, debug)\u001b[0m\n\u001b[1;32m    117\u001b[0m             \u001b[0malpha_start\u001b[0m\u001b[0;34m=\u001b[0m\u001b[0malpha_start\u001b[0m\u001b[0;34m,\u001b[0m \u001b[0malpha_stop\u001b[0m\u001b[0;34m=\u001b[0m\u001b[0malpha_stop\u001b[0m\u001b[0;34m,\u001b[0m \u001b[0malpha_step\u001b[0m\u001b[0;34m=\u001b[0m\u001b[0malpha_step\u001b[0m\u001b[0;34m,\u001b[0m\u001b[0;34m\u001b[0m\u001b[0;34m\u001b[0m\u001b[0m\n\u001b[1;32m    118\u001b[0m             \u001b[0mlplr_type\u001b[0m\u001b[0;34m=\u001b[0m\u001b[0mlplr_type\u001b[0m\u001b[0;34m,\u001b[0m\u001b[0;34m\u001b[0m\u001b[0;34m\u001b[0m\u001b[0m\n\u001b[0;32m--> 119\u001b[0;31m             \u001b[0mprune\u001b[0m\u001b[0;34m=\u001b[0m\u001b[0mprune\u001b[0m\u001b[0;34m,\u001b[0m \u001b[0mdebug\u001b[0m\u001b[0;34m=\u001b[0m\u001b[0mdebug\u001b[0m\u001b[0;34m\u001b[0m\u001b[0;34m\u001b[0m\u001b[0m\n\u001b[0m\u001b[1;32m    120\u001b[0m         )\n\u001b[1;32m    121\u001b[0m \u001b[0;34m\u001b[0m\u001b[0m\n",
      "\u001b[0;32m/home/nsagan/experiments/hyperparameter_sweeps.py\u001b[0m in \u001b[0;36mlplr_sweep_alpha\u001b[0;34m(X, budget, kwarg_dict, alpha_start, alpha_stop, alpha_step, lplr_type, prune, debug)\u001b[0m\n\u001b[1;32m     71\u001b[0m             \u001b[0;32mbreak\u001b[0m\u001b[0;34m\u001b[0m\u001b[0;34m\u001b[0m\u001b[0m\n\u001b[1;32m     72\u001b[0m \u001b[0;34m\u001b[0m\u001b[0m\n\u001b[0;32m---> 73\u001b[0;31m         \u001b[0mmtxs\u001b[0m\u001b[0;34m,\u001b[0m \u001b[0mX_hat\u001b[0m \u001b[0;34m=\u001b[0m \u001b[0mlplr_fn\u001b[0m\u001b[0;34m(\u001b[0m\u001b[0;34m**\u001b[0m\u001b[0mkwargs\u001b[0m\u001b[0;34m)\u001b[0m\u001b[0;34m\u001b[0m\u001b[0;34m\u001b[0m\u001b[0m\n\u001b[0m\u001b[1;32m     74\u001b[0m \u001b[0;34m\u001b[0m\u001b[0m\n\u001b[1;32m     75\u001b[0m         \u001b[0mfro_err\u001b[0m \u001b[0;34m=\u001b[0m \u001b[0mtorch\u001b[0m\u001b[0;34m.\u001b[0m\u001b[0mnorm\u001b[0m\u001b[0;34m(\u001b[0m\u001b[0mX\u001b[0m \u001b[0;34m-\u001b[0m \u001b[0mX_hat\u001b[0m\u001b[0;34m,\u001b[0m \u001b[0mp\u001b[0m\u001b[0;34m=\u001b[0m\u001b[0;34m\"fro\"\u001b[0m\u001b[0;34m)\u001b[0m\u001b[0;34m.\u001b[0m\u001b[0mitem\u001b[0m\u001b[0;34m(\u001b[0m\u001b[0;34m)\u001b[0m \u001b[0;34m/\u001b[0m \u001b[0mtorch\u001b[0m\u001b[0;34m.\u001b[0m\u001b[0mnorm\u001b[0m\u001b[0;34m(\u001b[0m\u001b[0mX\u001b[0m\u001b[0;34m,\u001b[0m \u001b[0mp\u001b[0m\u001b[0;34m=\u001b[0m\u001b[0;34m\"fro\"\u001b[0m\u001b[0;34m)\u001b[0m\u001b[0;34m.\u001b[0m\u001b[0mitem\u001b[0m\u001b[0;34m(\u001b[0m\u001b[0;34m)\u001b[0m\u001b[0;34m\u001b[0m\u001b[0;34m\u001b[0m\u001b[0m\n",
      "\u001b[0;32m/home/nsagan/experiments/weight_compressors.py\u001b[0m in \u001b[0;36malternating_mixed_lplr\u001b[0;34m(X, k, r1, r2, B1, B2, quantization_fn, normalize_and_shift, iters, max_cond, log_errors)\u001b[0m\n\u001b[1;32m    117\u001b[0m         \u001b[0mR\u001b[0m \u001b[0;34m=\u001b[0m \u001b[0mquantize_small_sv_components\u001b[0m\u001b[0;34m(\u001b[0m\u001b[0mW\u001b[0m\u001b[0;34m,\u001b[0m \u001b[0mB2\u001b[0m\u001b[0;34m,\u001b[0m \u001b[0mr2\u001b[0m\u001b[0;34m,\u001b[0m \u001b[0mquantization_fn\u001b[0m\u001b[0;34m=\u001b[0m\u001b[0mquantization_fn\u001b[0m\u001b[0;34m)\u001b[0m\u001b[0;34m\u001b[0m\u001b[0;34m\u001b[0m\u001b[0m\n\u001b[1;32m    118\u001b[0m         \u001b[0;32mif\u001b[0m \u001b[0mtorch\u001b[0m\u001b[0;34m.\u001b[0m\u001b[0misnan\u001b[0m\u001b[0;34m(\u001b[0m\u001b[0mR\u001b[0m\u001b[0;34m)\u001b[0m\u001b[0;34m.\u001b[0m\u001b[0many\u001b[0m\u001b[0;34m(\u001b[0m\u001b[0;34m)\u001b[0m\u001b[0;34m.\u001b[0m\u001b[0mitem\u001b[0m\u001b[0;34m(\u001b[0m\u001b[0;34m)\u001b[0m\u001b[0;34m:\u001b[0m\u001b[0;34m\u001b[0m\u001b[0;34m\u001b[0m\u001b[0m\n\u001b[0;32m--> 119\u001b[0;31m             \u001b[0mlogger\u001b[0m\u001b[0;34m.\u001b[0m\u001b[0merror\u001b[0m\u001b[0;34m(\u001b[0m\u001b[0;34mf\"NaNs encountered in Q(R). Giving up.\"\u001b[0m\u001b[0;34m)\u001b[0m\u001b[0;34m\u001b[0m\u001b[0;34m\u001b[0m\u001b[0m\n\u001b[0m\u001b[1;32m    120\u001b[0m             \u001b[0;32mbreak\u001b[0m\u001b[0;34m\u001b[0m\u001b[0;34m\u001b[0m\u001b[0m\n\u001b[1;32m    121\u001b[0m \u001b[0;34m\u001b[0m\u001b[0m\n",
      "\u001b[0;31mKeyboardInterrupt\u001b[0m: "
     ]
    }
   ],
   "source": [
    "model_directory = pathlib.Path(\"/mnt/sda2/models/Mistral-7B-v0.1-bf16-sharded/\")\n",
    "compare_against_benchmarkers_model(\n",
    "    model_directory=model_directory,\n",
    "    average_bit_level=3,\n",
    "    benchmarkers=benchmarkers,\n",
    "    reset_error_lists=True,\n",
    "    device=DEFAULT_DEVICE,\n",
    "    layer_limit=5,\n",
    "    max_num_cols=15000\n",
    ")"
   ]
  },
  {
   "cell_type": "code",
   "execution_count": 8,
   "metadata": {},
   "outputs": [],
   "source": [
    "def absmax_quantize_int8(X: torch.Tensor) -> tuple[torch.Tensor, torch.float16]:\n",
    "    \"\"\"Quantize each float16/32 data type to int8 and return the maximum value in float16\"\"\"\n",
    "    scale = X.abs().max().item() / 127.0\n",
    "    int8_tensor = (X / scale).round().to(torch.int8)\n",
    "    return scale, int8_tensor"
   ]
  },
  {
   "cell_type": "code",
   "execution_count": 9,
   "metadata": {},
   "outputs": [],
   "source": [
    "def absmax_dequantize_int8(Xq: torch.Tensor, scale: torch.float16) -> torch.Tensor:\n",
    "    \"\"\"Dequantize int8 data type to float16/32\"\"\"\n",
    "    return Xq.to(torch.float16) * scale"
   ]
  }
 ],
 "metadata": {
  "kernelspec": {
   "display_name": "Python 3 (ipykernel)",
   "language": "python",
   "name": "python3"
  },
  "language_info": {
   "codemirror_mode": {
    "name": "ipython",
    "version": 3
   },
   "file_extension": ".py",
   "mimetype": "text/x-python",
   "name": "python",
   "nbconvert_exporter": "python",
   "pygments_lexer": "ipython3",
   "version": "3.6.9"
  }
 },
 "nbformat": 4,
 "nbformat_minor": 2
}
