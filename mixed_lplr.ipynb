{
 "cells": [
  {
   "cell_type": "code",
   "execution_count": 1,
   "metadata": {},
   "outputs": [],
   "source": [
    "from phantominator import shepp_logan\n",
    "from matplotlib import pyplot as plt\n",
    "\n",
    "import torch\n",
    "\n",
    "from loguru import logger\n",
    "import pathlib\n",
    "from natsort import natsorted, ns"
   ]
  },
  {
   "cell_type": "code",
   "execution_count": 2,
   "metadata": {},
   "outputs": [],
   "source": [
    "%load_ext autoreload\n",
    "%autoreload 2"
   ]
  },
  {
   "cell_type": "code",
   "execution_count": 3,
   "metadata": {},
   "outputs": [],
   "source": [
    "from quantization import *\n",
    "from weight_compressors import *\n",
    "from hyperparameter_sweeps import *\n",
    "from benchmarkers import *"
   ]
  },
  {
   "cell_type": "code",
   "execution_count": 4,
   "metadata": {},
   "outputs": [],
   "source": [
    "# SMALL_SIZE = 12\n",
    "# MEDIUM_SIZE = 16\n",
    "# BIGGER_SIZE = 18\n",
    "\n",
    "# plt.rc('font', size=SMALL_SIZE)\n",
    "# plt.rc('axes', titlesize=BIGGER_SIZE, titlecolor=\"white\")  \n",
    "# plt.rc('axes', labelsize=MEDIUM_SIZE, labelcolor=\"white\")    # fontsize of the x and y labels\n",
    "# plt.rc('xtick', labelsize=SMALL_SIZE, color=\"white\")    # fontsize of the tick labels\n",
    "# plt.rc('ytick', labelsize=SMALL_SIZE, color=\"white\")    # fontsize of the tick labels"
   ]
  },
  {
   "cell_type": "code",
   "execution_count": 5,
   "metadata": {},
   "outputs": [
    {
     "data": {
      "image/png": "[encoded data removed]",
      "text/plain": [
       "<Figure size 432x288 with 1 Axes>"
      ]
     },
     "metadata": {},
     "output_type": "display_data"
    },
    {
     "data": {
      "image/png": "[encoded data removed]",
      "text/plain": [
       "<Figure size 792x216 with 1 Axes>"
      ]
     },
     "metadata": {},
     "output_type": "display_data"
    }
   ],
   "source": [
    "# Generate a phantominator matrix\n",
    "X = torch.Tensor(shepp_logan(2048))\n",
    "plt.imshow(X, cmap=\"gray\", interpolation=\"nearest\")\n",
    "plt.show()\n",
    "\n",
    "_, S, _ = torch.linalg.svd(X.float(), full_matrices=False)\n",
    "\n",
    "# Plot the singular values\n",
    "plt.figure(figsize=(11, 3))\n",
    "plt.plot(S, marker='o', linestyle='-', color='b')\n",
    "plt.title('Singular Values of Phantom(1024)', color=\"white\")\n",
    "plt.xlabel('Index', color=\"white\")\n",
    "plt.ylabel('Singular Value', color=\"white\")\n",
    "plt.yscale('log')\n",
    "plt.grid(True)\n",
    "plt.show()"
   ]
  },
  {
   "cell_type": "code",
   "execution_count": 6,
   "metadata": {},
   "outputs": [],
   "source": [
    "def test_alternating_mixed_lplr(\n",
    "    lplr_params=[{\n",
    "        \"alpha\": 0.5, # Fraction of retained columns to be in full precision\n",
    "        \"beta\": 0.4, # Fraction of columns to be retained\n",
    "        \"B1\": 8,\n",
    "        \"B2\": 8,\n",
    "        \"quantization_fn\": quantize\n",
    "    }],\n",
    "    device=\"cpu\",\n",
    "    iters=50\n",
    "):\n",
    "\n",
    "    plot_colors = [\"b\", \"r\", \"g\", \"c\", \"m\", \"k\"]\n",
    "    plot_markers = [\"o\", \"X\", \"*\"]\n",
    "    # Set random seed for reproducibility\n",
    "    torch.manual_seed(42)\n",
    "\n",
    "    # Generate a phantominator matrix\n",
    "    X = torch.Tensor(shepp_logan(2048))\n",
    "    X = X.to(device)\n",
    "    print(f\"Phantom shape: {X.shape[1]}\")\n",
    "\n",
    "    plt.figure(figsize=(11, 3))\n",
    "\n",
    "    for i, param_set in enumerate(lplr_params):\n",
    "        kwargs = param_set.copy()\n",
    "        kwargs[\"k\"] = int(kwargs[\"beta\"] * X.shape[1])\n",
    "        kwargs[\"r1\"] = int(kwargs[\"alpha\"] * kwargs[\"k\"])\n",
    "        kwargs[\"r2\"] = kwargs[\"r1\"]\n",
    "        kwargs[\"normalize_and_shift\"] = False\n",
    "        kwargs[\"log_errors\"] = True\n",
    "        kwargs[\"iters\"] = iters\n",
    "        del kwargs[\"alpha\"]\n",
    "        del kwargs[\"beta\"]\n",
    "\n",
    "        # Call alternating_mixed_lplr and retrieve errors\n",
    "        kwargs[\"X\"] = X\n",
    "        _, _, out, errors = alternating_mixed_lplr(**kwargs)\n",
    "        \n",
    "\n",
    "        fro_norm_X = torch.norm(X, p=\"fro\").item()\n",
    "        relative_errors = [error / fro_norm_X for error in errors]\n",
    "\n",
    "        # Plot errors over iterations\n",
    "        \n",
    "        plt.plot(\n",
    "            range(1, len(relative_errors) + 1),\n",
    "            relative_errors,\n",
    "            marker=plot_markers[(i // len(plot_colors)) % len(plot_markers)],\n",
    "            linestyle=\"-\",\n",
    "            markersize=4,\n",
    "            color=plot_colors[i % len(plot_colors)],\n",
    "            label=f\"Param Set {i+1}*\")\n",
    "\n",
    "    print(\"-\"*80, \"\\n* Legend Key\")\n",
    "    for i, kwargs in enumerate(lplr_params):\n",
    "        print(F\"Param Set {i+1}: \", kwargs)\n",
    "\n",
    "    plt.title(\"Frobenius Norm Errors over Iterations\")\n",
    "    plt.xlabel(\"Iteration\")\n",
    "    plt.ylabel(\"Error\")\n",
    "    plt.yscale(\"log\")\n",
    "    plt.grid(True)\n",
    "    plt.legend()\n",
    "    plt.show()"
   ]
  },
  {
   "cell_type": "code",
   "execution_count": 29,
   "metadata": {},
   "outputs": [
    {
     "name": "stdout",
     "output_type": "stream",
     "text": [
      "tensor([1.3298e+01, 3.5038e+00, 2.7451e+00, 1.8522e+00, 1.3193e+00, 1.1940e+00,\n",
      "        9.8718e-01, 8.3729e-01, 7.3200e-01, 6.6453e-01, 6.3616e-01, 5.6747e-01,\n",
      "        4.8860e-01, 4.6319e-01, 4.2529e-01, 4.1052e-01, 3.9627e-01, 3.6910e-01,\n",
      "        3.3254e-01, 3.0530e-01, 2.9933e-01, 2.8887e-01, 2.7759e-01, 2.7564e-01,\n",
      "        2.5417e-01, 2.4870e-01, 2.3905e-01, 2.3145e-01, 2.2265e-01, 2.1200e-01,\n",
      "        2.1036e-01, 2.0582e-01, 1.9820e-01, 1.8701e-01, 1.8068e-01, 1.7778e-01,\n",
      "        1.7361e-01, 1.6886e-01, 1.6476e-01, 1.6013e-01, 1.5526e-01, 1.5109e-01,\n",
      "        1.4808e-01, 1.4565e-01, 1.4028e-01, 1.3851e-01, 1.3462e-01, 1.3314e-01,\n",
      "        1.3149e-01, 1.2937e-01, 1.2708e-01, 1.2513e-01, 1.2330e-01, 1.2004e-01,\n",
      "        1.1912e-01, 1.1637e-01, 1.1586e-01, 1.1301e-01, 1.1169e-01, 1.0897e-01,\n",
      "        1.0793e-01, 1.0606e-01, 1.0496e-01, 1.0275e-01, 1.0178e-01, 1.0002e-01,\n",
      "        9.8628e-02, 9.7865e-02, 9.6665e-02, 9.6468e-02, 9.2613e-02, 9.2060e-02,\n",
      "        9.0753e-02, 8.9659e-02, 8.8939e-02, 8.8265e-02, 8.7499e-02, 8.6174e-02,\n",
      "        8.4917e-02, 8.4414e-02, 8.3762e-02, 8.2069e-02, 8.1028e-02, 7.9467e-02,\n",
      "        7.8826e-02, 7.8500e-02, 7.7025e-02, 7.6412e-02, 7.5825e-02, 7.4578e-02,\n",
      "        7.3821e-02, 7.3561e-02, 7.2722e-02, 7.2286e-02, 7.1526e-02, 7.0927e-02,\n",
      "        7.0517e-02, 6.9866e-02, 6.9256e-02, 6.8099e-02, 6.7907e-02, 6.7518e-02,\n",
      "        6.6728e-02, 6.6227e-02, 6.4958e-02, 6.4702e-02, 6.4600e-02, 6.3266e-02,\n",
      "        6.2605e-02, 6.2172e-02, 6.1479e-02, 6.0945e-02, 6.0834e-02, 6.0476e-02,\n",
      "        5.9900e-02, 5.9749e-02, 5.8977e-02, 5.8739e-02, 5.8486e-02, 5.7988e-02,\n",
      "        5.7397e-02, 5.6567e-02, 5.6351e-02, 5.6104e-02, 5.5455e-02, 5.5324e-02,\n",
      "        5.4634e-02, 5.3937e-02, 5.3632e-02, 5.3464e-02, 5.2864e-02, 5.2502e-02,\n",
      "        5.2125e-02, 5.1627e-02, 5.1582e-02, 5.1130e-02, 5.0282e-02, 4.9378e-02,\n",
      "        4.9306e-02, 4.9136e-02, 4.8698e-02, 4.8583e-02, 4.8334e-02, 4.7721e-02,\n",
      "        4.7517e-02, 4.7196e-02, 4.6720e-02, 4.6614e-02, 4.5825e-02, 4.5743e-02,\n",
      "        4.5579e-02, 4.5033e-02, 4.4984e-02, 4.4033e-02, 4.3927e-02, 4.3821e-02,\n",
      "        4.3738e-02, 4.3119e-02, 4.3074e-02, 4.2887e-02, 4.2287e-02, 4.2218e-02,\n",
      "        4.1860e-02, 4.1540e-02, 4.1129e-02, 4.0428e-02, 4.0135e-02, 3.9791e-02,\n",
      "        3.9624e-02, 3.9506e-02, 3.9067e-02, 3.8606e-02, 3.8528e-02, 3.8334e-02,\n",
      "        3.7891e-02, 3.7746e-02, 3.7259e-02, 3.7159e-02, 3.6923e-02, 3.6332e-02,\n",
      "        3.6077e-02, 3.5823e-02, 3.5694e-02, 3.5529e-02, 3.5089e-02, 3.4759e-02,\n",
      "        3.4471e-02, 3.4245e-02, 3.3997e-02, 3.3647e-02, 3.3503e-02, 3.3448e-02,\n",
      "        3.3367e-02, 3.3074e-02, 3.2937e-02, 3.2067e-02, 3.1925e-02, 3.1496e-02,\n",
      "        3.1013e-02, 3.0464e-02, 3.0033e-02, 2.9688e-02, 2.9376e-02, 2.9260e-02,\n",
      "        2.8672e-02, 2.8365e-02, 2.7854e-02, 2.7684e-02, 2.7589e-02, 2.6904e-02,\n",
      "        2.6422e-02, 2.6241e-02, 2.6040e-02, 2.5370e-02, 2.4962e-02, 2.4462e-02,\n",
      "        2.4079e-02, 2.4009e-02, 2.3709e-02, 2.3603e-02, 2.3423e-02, 2.2713e-02,\n",
      "        2.2525e-02, 2.1961e-02, 2.1834e-02, 2.1496e-02, 2.1210e-02, 2.0681e-02,\n",
      "        2.0616e-02, 2.0332e-02, 1.9960e-02, 1.9524e-02, 1.8108e-02, 1.7676e-02,\n",
      "        1.7239e-02, 1.6799e-02, 1.5594e-02, 1.5275e-02, 1.5056e-02, 1.4750e-02,\n",
      "        1.4248e-02, 1.4153e-02, 1.3959e-02, 1.3280e-02, 1.2962e-02, 1.2619e-02,\n",
      "        1.2329e-02, 1.1302e-02, 1.0866e-02, 1.0239e-02, 9.9946e-03, 9.4488e-03,\n",
      "        8.9096e-03, 3.2350e-06, 2.6028e-06], device='cuda:2')\n"
     ]
    },
    {
     "name": "stderr",
     "output_type": "stream",
     "text": [
      "  0%|          | 0/49 [00:00<?, ?it/s]\u001b[32m2024-01-09 23:07:50.801\u001b[0m | \u001b[31m\u001b[1mERROR   \u001b[0m | \u001b[36mweight_compressors\u001b[0m:\u001b[36malternating_mixed_lplr\u001b[0m:\u001b[36m87\u001b[0m - \u001b[31m\u001b[1mNaNs encountered in finding unquantized L. Giving up.\u001b[0m\n",
      "  0%|          | 0/49 [00:00<?, ?it/s]\n"
     ]
    }
   ],
   "source": [
    "_, _, errors = alternating_mixed_lplr_plus_q(X.to(\"cuda:2\"), k=255, r1=100, r2=100, BQ=4, log_errors=True, inner_iters=50, outer_iters=2)"
   ]
  },
  {
   "cell_type": "code",
   "execution_count": 30,
   "metadata": {},
   "outputs": [
    {
     "data": {
      "text/plain": [
       "5109113.262640234"
      ]
     },
     "execution_count": 30,
     "metadata": {},
     "output_type": "execute_result"
    }
   ],
   "source": [
    "1.3298e+01 / 2.6028e-06"
   ]
  },
  {
   "cell_type": "code",
   "execution_count": 31,
   "metadata": {},
   "outputs": [
    {
     "data": {
      "text/plain": [
       "4110664.605873261"
      ]
     },
     "execution_count": 31,
     "metadata": {},
     "output_type": "execute_result"
    }
   ],
   "source": [
    "1.3298e+01 / 3.2350e-06"
   ]
  },
  {
   "cell_type": "code",
   "execution_count": 28,
   "metadata": {},
   "outputs": [
    {
     "data": {
      "text/plain": [
       "array([8.70668721e-05])"
      ]
     },
     "execution_count": 28,
     "metadata": {},
     "output_type": "execute_result"
    }
   ],
   "source": [
    "np.array(errors) / torch.norm(X, p=\"fro\").item()"
   ]
  },
  {
   "cell_type": "code",
   "execution_count": 20,
   "metadata": {},
   "outputs": [
    {
     "name": "stdout",
     "output_type": "stream",
     "text": [
      "Phantom shape: 2048\n"
     ]
    },
    {
     "name": "stderr",
     "output_type": "stream",
     "text": [
      "100%|██████████| 49/49 [00:02<00:00, 16.48it/s]\n",
      "100%|██████████| 49/49 [00:04<00:00, 11.18it/s]\n"
     ]
    },
    {
     "name": "stdout",
     "output_type": "stream",
     "text": [
      "-------------------------------------------------------------------------------- \n",
      "* Legend Key\n",
      "Param Set 1:  {'alpha': 0.5, 'beta': 0.4, 'B1': 8, 'B2': 8, 'quantization_fn': <function quantize at 0x7fb1bfb65268>}\n",
      "Param Set 2:  {'alpha': 0.5, 'beta': 0.4, 'B1': 8, 'B2': 8, 'quantization_fn': <function quantize_nf at 0x7fb1bfb7e400>}\n"
     ]
    },
    {
     "data": {
      "image/png": "[encoded data removed]",
      "text/plain": [
       "<Figure size 792x216 with 1 Axes>"
      ]
     },
     "metadata": {},
     "output_type": "display_data"
    }
   ],
   "source": [
    "test_alternating_mixed_lplr([\n",
    "    {\n",
    "        \"alpha\": 0.5, # Fraction of retained columns to be in full precision\n",
    "        \"beta\": 0.4, # Fraction of columns to be retained\n",
    "        \"B1\": 8,\n",
    "        \"B2\": 8,\n",
    "        \"quantization_fn\": quantize\n",
    "    },\n",
    "    {\n",
    "        \"alpha\": 0.5, # Fraction of retained columns to be in full precision\n",
    "        \"beta\": 0.4, # Fraction of columns to be retained\n",
    "        \"B1\": 8,\n",
    "        \"B2\": 8,\n",
    "        \"quantization_fn\": quantize_nf\n",
    "    }\n",
    "], device=\"cuda:2\")"
   ]
  },
  {
   "cell_type": "code",
   "execution_count": 79,
   "metadata": {},
   "outputs": [],
   "source": [
    "def test_loftq(\n",
    "    lplr_params=[{\n",
    "        \"beta\": 0.2, # Fraction of columns to be retained\n",
    "        \"B\": 8,\n",
    "        \"quantization_fn\": quantize_nf\n",
    "    }],\n",
    "    iters=50,\n",
    "    device=\"cpu\"\n",
    "):\n",
    "\n",
    "    plot_colors = [\"b\", \"r\", \"g\", \"c\", \"m\", \"k\"]\n",
    "    plot_markers = [\"o\", \"X\", \"*\"]\n",
    "    # Set random seed for reproducibility\n",
    "    torch.manual_seed(42)\n",
    "\n",
    "    # Generate a phantominator matrix\n",
    "    X = torch.Tensor(shepp_logan(2048))\n",
    "    print(f\"Phantom shape: {X.shape[1]}\")\n",
    "\n",
    "    plt.figure(figsize=(11, 3))\n",
    "\n",
    "    for i, param_set in enumerate(lplr_params):\n",
    "        kwargs = param_set.copy()\n",
    "        kwargs[\"r\"] = int(kwargs[\"beta\"] * X.shape[1])\n",
    "        kwargs[\"normalize_and_shift\"] = True\n",
    "        kwargs[\"log_errors\"] = True\n",
    "        kwargs[\"iters\"] = iters\n",
    "        del kwargs[\"beta\"]\n",
    "\n",
    "        # Call alternating_mixed_lplr and retrieve errors\n",
    "        kwargs[\"X\"] = X.to(device)\n",
    "        _, _, _, _, errors = loftq(**kwargs)\n",
    "\n",
    "        fro_norm_X = torch.norm(X, p=\"fro\").item()\n",
    "        relative_errors = [error / fro_norm_X for error in errors]\n",
    "\n",
    "        # Plot errors over iterations\n",
    "        \n",
    "        plt.plot(\n",
    "            range(1, iters + 1),\n",
    "            relative_errors,\n",
    "            marker=plot_markers[(i // len(plot_colors)) % len(plot_markers)],\n",
    "            linestyle=\"-\",\n",
    "            markersize=4,\n",
    "            color=plot_colors[i % len(plot_colors)],\n",
    "            label=f\"Param Set {i+1}*\")\n",
    "\n",
    "    print(\"-\"*80, \"\\n* Legend Key\")\n",
    "    for i, kwargs in enumerate(lplr_params):\n",
    "        print(F\"Param Set {i+1}: \", kwargs)\n",
    "\n",
    "    plt.title(\"Frobenius Norm Errors over Iterations\")\n",
    "    plt.xlabel(\"Iteration\")\n",
    "    plt.ylabel(\"Error\")\n",
    "    plt.yscale(\"log\")\n",
    "    plt.grid(True)\n",
    "    plt.legend()\n",
    "    plt.show()"
   ]
  },
  {
   "cell_type": "code",
   "execution_count": 80,
   "metadata": {},
   "outputs": [
    {
     "name": "stdout",
     "output_type": "stream",
     "text": [
      "Phantom shape: 2048\n"
     ]
    },
    {
     "name": "stderr",
     "output_type": "stream",
     "text": [
      "100%|██████████| 50/50 [00:32<00:00,  1.55it/s]\n"
     ]
    },
    {
     "name": "stdout",
     "output_type": "stream",
     "text": [
      "-------------------------------------------------------------------------------- \n",
      "* Legend Key\n",
      "Param Set 1:  {'beta': 0.2, 'B': 8, 'quantization_fn': <function quantize_nf at 0x7fb1bfb7e400>}\n"
     ]
    },
    {
     "data": {
      "image/png": "[encoded data removed]",
      "text/plain": [
       "<Figure size 792x216 with 1 Axes>"
      ]
     },
     "metadata": {},
     "output_type": "display_data"
    }
   ],
   "source": [
    "test_loftq(device=\"cuda:2\")"
   ]
  },
  {
   "cell_type": "code",
   "execution_count": 94,
   "metadata": {},
   "outputs": [
    {
     "ename": "TypeError",
     "evalue": "lplr_sweep_alpha_and_B() got an unexpected keyword argument 'kwarg_dict'",
     "output_type": "error",
     "traceback": [
      "\u001b[0;31m---------------------------------------------------------------------------\u001b[0m",
      "\u001b[0;31mTypeError\u001b[0m                                 Traceback (most recent call last)",
      "\u001b[0;32m<ipython-input-94-fdbe9d48384f>\u001b[0m in \u001b[0;36m<module>\u001b[0;34m()\u001b[0m\n\u001b[1;32m      7\u001b[0m     \u001b[0mkwarg_dict\u001b[0m\u001b[0;34m=\u001b[0m\u001b[0;34m{\u001b[0m\u001b[0;34m\"quantization_fn\"\u001b[0m\u001b[0;34m:\u001b[0m \u001b[0mquantize_nf\u001b[0m\u001b[0;34m,\u001b[0m \u001b[0;34m\"iters\"\u001b[0m\u001b[0;34m:\u001b[0m\u001b[0;36m50\u001b[0m\u001b[0;34m,\u001b[0m \u001b[0;34m\"normalize_and_shift\"\u001b[0m\u001b[0;34m:\u001b[0m \u001b[0;32mTrue\u001b[0m\u001b[0;34m}\u001b[0m\u001b[0;34m,\u001b[0m\u001b[0;34m\u001b[0m\u001b[0;34m\u001b[0m\u001b[0m\n\u001b[1;32m      8\u001b[0m     \u001b[0mlplr_type\u001b[0m\u001b[0;34m=\u001b[0m\u001b[0mLplrType\u001b[0m\u001b[0;34m.\u001b[0m\u001b[0mALTERNATING_MIXED\u001b[0m\u001b[0;34m,\u001b[0m\u001b[0;34m\u001b[0m\u001b[0;34m\u001b[0m\u001b[0m\n\u001b[0;32m----> 9\u001b[0;31m     debug=True)\n\u001b[0m",
      "\u001b[0;31mTypeError\u001b[0m: lplr_sweep_alpha_and_B() got an unexpected keyword argument 'kwarg_dict'"
     ]
    }
   ],
   "source": [
    "X = torch.Tensor(shepp_logan(2048)).to(\"cuda:2\")\n",
    "average_bit_level = 3\n",
    "budget = X.shape[0] * X.shape[1] * average_bit_level\n",
    "\n",
    "mtxs, alpha, beta, B, error = lplr_sweep_alpha_and_B(\n",
    "    X=X, budget=budget,\n",
    "    kwarg_dict={\"quantization_fn\": quantize_nf, \"iters\":50, \"normalize_and_shift\": True},\n",
    "    lplr_type=LplrType.ALTERNATING_MIXED,\n",
    "    debug=True)"
   ]
  },
  {
   "cell_type": "code",
   "execution_count": 38,
   "metadata": {},
   "outputs": [],
   "source": [
    "def compare_against_benchmarks(\n",
    "    X_list:list = None,\n",
    "    average_bit_level:int = 3,\n",
    "    benchmarkers=[],\n",
    "    reset_error_lists = True\n",
    "):\n",
    "    for X in X_list:\n",
    "        n, d = X.size()\n",
    "        budget = n*d*average_bit_level\n",
    "\n",
    "        for benchmarker in benchmarkers:\n",
    "            if reset_error_lists:\n",
    "                benchmarker.reset_errors()\n",
    "            benchmarker.run(X, budget)\n",
    "            \n",
    "    for benchmarker in benchmarkers:\n",
    "        print(f\"{benchmarker.label}: {benchmarker.errors}\")"
   ]
  },
  {
   "cell_type": "code",
   "execution_count": 45,
   "metadata": {},
   "outputs": [],
   "source": [
    "benchmarkers = [\n",
    "        LplrBenchmarker(\n",
    "            {\n",
    "                \"quantization_fn\": quantize_nf,\n",
    "                \"iters\": 50,\n",
    "                \"alpha_start\": 0,\n",
    "                \"alpha_stop\": 0.5,\n",
    "                \"alpha_step\": 0.1,\n",
    "                \"prune\": True\n",
    "            },\n",
    "            label=\"Mixed Alternating LPLR (B=8)\"\n",
    "        ),\n",
    "        DirectSvdBenchmarker(\n",
    "            {\n",
    "                \"quantization_fn\": quantize_nf,\n",
    "                \"alpha_start\": 0,\n",
    "                \"alpha_stop\": 0.5,\n",
    "                \"alpha_step\": 0.1,\n",
    "                \"prune\": True\n",
    "            }\n",
    "        ),\n",
    "        FullQuantBenchmarker(\n",
    "            {\n",
    "                \"quantization_fn\": quantize,\n",
    "            },\n",
    "            label=\"Uniform Quantization\"\n",
    "        ),\n",
    "        FullQuantBenchmarker(\n",
    "            {\n",
    "                \"quantization_fn\": quantize_nf,\n",
    "                \"iters\": 50\n",
    "            },\n",
    "            label=\"Normal Float Quantization\"\n",
    "        ),\n",
    "        LoftqBenchmarker(\n",
    "            {\n",
    "                \"quantization_fn\": quantize_nf,\n",
    "                \"B\": 2,\n",
    "                \"iters\": 50\n",
    "            },\n",
    "            label=\"LoftQ (B=2)\"\n",
    "        ),\n",
    "    ]"
   ]
  },
  {
   "cell_type": "code",
   "execution_count": 48,
   "metadata": {},
   "outputs": [],
   "source": [
    "# model_directory = pathlib.Path(\"/hdd/models/Mistral-7B-v0.1-bf16-sharded/\")\n",
    "model_directory = pathlib.Path(\"/mnt/sda2/models/Mistral-7B-v0.1-bf16-sharded/\")\n",
    "model_files = natsorted(model_directory.glob(\"*.bin\"), alg=ns.IC)\n",
    "f = model_files[0]\n",
    "layer_set = torch.load(f, map_location=\"cpu\")\n",
    "name, X2 = list(layer_set.items())[1]\n",
    "X2 = X2.float().to(\"cuda:2\")"
   ]
  },
  {
   "cell_type": "code",
   "execution_count": 46,
   "metadata": {},
   "outputs": [
    {
     "name": "stdout",
     "output_type": "stream",
     "text": [
      "model.embed_tokens.weight :  torch.Size([32000, 4096])\n",
      "model.layers.0.self_attn.q_proj.weight :  torch.Size([4096, 4096])\n",
      "model.layers.0.self_attn.k_proj.weight :  torch.Size([1024, 4096])\n",
      "model.layers.0.self_attn.v_proj.weight :  torch.Size([1024, 4096])\n",
      "model.layers.0.self_attn.o_proj.weight :  torch.Size([4096, 4096])\n",
      "model.layers.0.mlp.gate_proj.weight :  torch.Size([14336, 4096])\n",
      "model.layers.0.mlp.up_proj.weight :  torch.Size([14336, 4096])\n",
      "model.layers.0.mlp.down_proj.weight :  torch.Size([4096, 14336])\n",
      "model.layers.0.input_layernorm.weight :  torch.Size([4096])\n",
      "model.layers.0.post_attention_layernorm.weight :  torch.Size([4096])\n",
      "model.layers.1.self_attn.q_proj.weight :  torch.Size([4096, 4096])\n",
      "model.layers.1.self_attn.k_proj.weight :  torch.Size([1024, 4096])\n",
      "model.layers.1.self_attn.v_proj.weight :  torch.Size([1024, 4096])\n",
      "model.layers.1.self_attn.o_proj.weight :  torch.Size([4096, 4096])\n",
      "model.layers.1.mlp.gate_proj.weight :  torch.Size([14336, 4096])\n",
      "model.layers.1.mlp.up_proj.weight :  torch.Size([14336, 4096])\n",
      "model.layers.1.mlp.down_proj.weight :  torch.Size([4096, 14336])\n",
      "model.layers.1.input_layernorm.weight :  torch.Size([4096])\n",
      "model.layers.1.post_attention_layernorm.weight :  torch.Size([4096])\n",
      "model.layers.2.self_attn.q_proj.weight :  torch.Size([4096, 4096])\n",
      "model.layers.2.self_attn.k_proj.weight :  torch.Size([1024, 4096])\n",
      "model.layers.2.self_attn.v_proj.weight :  torch.Size([1024, 4096])\n",
      "model.layers.2.self_attn.o_proj.weight :  torch.Size([4096, 4096])\n",
      "model.layers.2.mlp.gate_proj.weight :  torch.Size([14336, 4096])\n",
      "model.layers.2.mlp.up_proj.weight :  torch.Size([14336, 4096])\n",
      "model.layers.2.mlp.down_proj.weight :  torch.Size([4096, 14336])\n",
      "model.layers.2.input_layernorm.weight :  torch.Size([4096])\n",
      "model.layers.2.post_attention_layernorm.weight :  torch.Size([4096])\n",
      "model.layers.3.self_attn.q_proj.weight :  torch.Size([4096, 4096])\n",
      "model.layers.3.self_attn.k_proj.weight :  torch.Size([1024, 4096])\n",
      "model.layers.3.self_attn.v_proj.weight :  torch.Size([1024, 4096])\n",
      "model.layers.3.self_attn.o_proj.weight :  torch.Size([4096, 4096])\n",
      "model.layers.3.mlp.gate_proj.weight :  torch.Size([14336, 4096])\n",
      "model.layers.3.mlp.up_proj.weight :  torch.Size([14336, 4096])\n"
     ]
    }
   ],
   "source": [
    "for (name, W) in layer_set.items():\n",
    "    print(name, \": \", W.shape)"
   ]
  },
  {
   "cell_type": "code",
   "execution_count": 50,
   "metadata": {},
   "outputs": [
    {
     "data": {
      "image/png": "[encoded data removed]",
      "text/plain": [
       "<Figure size 792x216 with 1 Axes>"
      ]
     },
     "metadata": {},
     "output_type": "display_data"
    }
   ],
   "source": [
    "_, S, _ = torch.linalg.svd(X2.float(), full_matrices=False)\n",
    "\n",
    "# Plot the singular values\n",
    "plt.figure(figsize=(11, 3))\n",
    "plt.plot(S.cpu(), marker='o', linestyle='-', color='b')\n",
    "plt.title('Singular Values of Layer Weights')\n",
    "plt.xlabel('Index')\n",
    "plt.ylabel('Singular Value')\n",
    "plt.yscale('log')\n",
    "plt.grid(True)\n",
    "plt.show()"
   ]
  },
  {
   "cell_type": "code",
   "execution_count": 51,
   "metadata": {},
   "outputs": [
    {
     "name": "stderr",
     "output_type": "stream",
     "text": [
      "  0%|          | 0/49 [00:00<?, ?it/s]\u001b[32m2024-01-09 19:47:14.091\u001b[0m | \u001b[31m\u001b[1mERROR   \u001b[0m | \u001b[36mweight_compressors\u001b[0m:\u001b[36malternating_mixed_lplr\u001b[0m:\u001b[36m93\u001b[0m - \u001b[31m\u001b[1mNaNs encountered in finding unquantized L. Giving up.\u001b[0m\n",
      "  0%|          | 0/49 [00:00<?, ?it/s]\n",
      "  0%|          | 0/49 [00:00<?, ?it/s]\u001b[32m2024-01-09 19:47:19.772\u001b[0m | \u001b[31m\u001b[1mERROR   \u001b[0m | \u001b[36mweight_compressors\u001b[0m:\u001b[36malternating_mixed_lplr\u001b[0m:\u001b[36m109\u001b[0m - \u001b[31m\u001b[1mNaNs encountered in finding unquantized R. Giving up.\u001b[0m\n",
      "  0%|          | 0/49 [00:00<?, ?it/s]\n",
      " 18%|█▊        | 9/49 [00:02<00:11,  3.53it/s]\u001b[32m2024-01-09 19:47:27.645\u001b[0m | \u001b[31m\u001b[1mERROR   \u001b[0m | \u001b[36mweight_compressors\u001b[0m:\u001b[36malternating_mixed_lplr\u001b[0m:\u001b[36m93\u001b[0m - \u001b[31m\u001b[1mNaNs encountered in finding unquantized L. Giving up.\u001b[0m\n",
      " 18%|█▊        | 9/49 [00:02<00:11,  3.52it/s]\n",
      " 20%|██        | 10/49 [00:02<00:09,  4.33it/s]\u001b[32m2024-01-09 19:47:35.275\u001b[0m | \u001b[31m\u001b[1mERROR   \u001b[0m | \u001b[36mweight_compressors\u001b[0m:\u001b[36malternating_mixed_lplr\u001b[0m:\u001b[36m109\u001b[0m - \u001b[31m\u001b[1mNaNs encountered in finding unquantized R. Giving up.\u001b[0m\n",
      " 20%|██        | 10/49 [00:02<00:09,  4.14it/s]\n",
      "  2%|▏         | 1/49 [00:00<00:09,  5.13it/s]\u001b[32m2024-01-09 19:47:40.697\u001b[0m | \u001b[31m\u001b[1mERROR   \u001b[0m | \u001b[36mweight_compressors\u001b[0m:\u001b[36malternating_mixed_lplr\u001b[0m:\u001b[36m109\u001b[0m - \u001b[31m\u001b[1mNaNs encountered in finding unquantized R. Giving up.\u001b[0m\n",
      "  2%|▏         | 1/49 [00:00<00:13,  3.67it/s]\n",
      " 20%|██        | 10/49 [00:01<00:06,  5.96it/s]\u001b[32m2024-01-09 19:47:47.529\u001b[0m | \u001b[31m\u001b[1mERROR   \u001b[0m | \u001b[36mweight_compressors\u001b[0m:\u001b[36malternating_mixed_lplr\u001b[0m:\u001b[36m109\u001b[0m - \u001b[31m\u001b[1mNaNs encountered in finding unquantized R. Giving up.\u001b[0m\n",
      " 20%|██        | 10/49 [00:01<00:06,  5.80it/s]\n",
      "100%|██████████| 49/49 [00:12<00:00,  4.06it/s]\n",
      "100%|██████████| 49/49 [00:10<00:00,  4.55it/s]\n",
      "100%|██████████| 49/49 [00:09<00:00,  5.26it/s]\n",
      "\u001b[32m2024-01-09 19:48:35.251\u001b[0m | \u001b[33m\u001b[1mWARNING \u001b[0m | \u001b[36mhyperparameter_sweeps\u001b[0m:\u001b[36mlplr_sweep_alpha\u001b[0m:\u001b[36m73\u001b[0m - \u001b[33m\u001b[1mError increased after increasing alpha and prune is set to True. Giving up.\u001b[0m\n",
      "\u001b[32m2024-01-09 19:49:21.494\u001b[0m | \u001b[33m\u001b[1mWARNING \u001b[0m | \u001b[36mhyperparameter_sweeps\u001b[0m:\u001b[36mlplr_sweep_alpha\u001b[0m:\u001b[36m73\u001b[0m - \u001b[33m\u001b[1mError increased after increasing alpha and prune is set to True. Giving up.\u001b[0m\n",
      "100%|██████████| 50/50 [04:11<00:00,  5.04s/it]"
     ]
    },
    {
     "name": "stdout",
     "output_type": "stream",
     "text": [
      "Mixed Alternating LPLR (B=8): [0.04197975055840411]\n",
      "Direct SVD: [0.04622669745813277]\n",
      "Uniform Quantization: [0.9495973025925873]\n",
      "Normal Float Quantization: [0.8026467172578212]\n",
      "LoftQ (B=2): [0.2068842819899936]\n"
     ]
    },
    {
     "name": "stderr",
     "output_type": "stream",
     "text": [
      "\n"
     ]
    }
   ],
   "source": [
    "compare_against_benchmarks([X2], benchmarkers=benchmarkers)"
   ]
  },
  {
   "cell_type": "code",
   "execution_count": 8,
   "metadata": {},
   "outputs": [],
   "source": [
    "def absmax_quantize_int8(X: torch.Tensor) -> tuple[torch.Tensor, torch.float16]:\n",
    "    \"\"\"Quantize each float16/32 data type to int8 and return the maximum value in float16\"\"\"\n",
    "    scale = X.abs().max().item() / 127.0\n",
    "    int8_tensor = (X / scale).round().to(torch.int8)\n",
    "    return scale, int8_tensor"
   ]
  },
  {
   "cell_type": "code",
   "execution_count": 9,
   "metadata": {},
   "outputs": [],
   "source": [
    "def absmax_dequantize_int8(Xq: torch.Tensor, scale: torch.float16) -> torch.Tensor:\n",
    "    \"\"\"Dequantize int8 data type to float16/32\"\"\"\n",
    "    return Xq.to(torch.float16) * scale"
   ]
  }
 ],
 "metadata": {
  "kernelspec": {
   "display_name": "Python 3 (ipykernel)",
   "language": "python",
   "name": "python3"
  },
  "language_info": {
   "codemirror_mode": {
    "name": "ipython",
    "version": 3
   },
   "file_extension": ".py",
   "mimetype": "text/x-python",
   "name": "python",
   "nbconvert_exporter": "python",
   "pygments_lexer": "ipython3",
   "version": "3.6.9"
  }
 },
 "nbformat": 4,
 "nbformat_minor": 2
}
