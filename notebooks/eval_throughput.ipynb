{
 "cells": [
  {
   "cell_type": "code",
   "execution_count": 1,
   "metadata": {},
   "outputs": [],
   "source": [
    "%load_ext autoreload\n",
    "%autoreload 2"
   ]
  },
  {
   "cell_type": "code",
   "execution_count": 2,
   "metadata": {},
   "outputs": [
    {
     "name": "stderr",
     "output_type": "stream",
     "text": [
      "I0804 07:36:53.952796 93964 utils.py:148] Note: NumExpr detected 48 cores but \"NUMEXPR_MAX_THREADS\" not set, so enforcing safe limit of 8.\n",
      "I0804 07:36:53.953551 93964 utils.py:160] NumExpr defaulting to 8 threads.\n",
      "W0804 07:36:54.158301 93964 warnings.py:110] /home/ubuntu/micromamba/envs/caldera/lib/python3.11/site-packages/tqdm/auto.py:21: TqdmWarning: IProgress not found. Please update jupyter and ipywidgets. See https://ipywidgets.readthedocs.io/en/stable/user_install.html\n",
      "  from .autonotebook import tqdm as notebook_tqdm\n",
      "\n",
      "I0804 07:36:54.313435 93964 config.py:58] PyTorch version 2.2.1 available.\n"
     ]
    }
   ],
   "source": [
    "import gc\n",
    "import torch\n",
    "from lib.utils import graph_wrapper\n",
    "from transformers import AutoTokenizer, LlamaForCausalLM, StaticCache\n",
    "import time"
   ]
  },
  {
   "cell_type": "code",
   "execution_count": 3,
   "metadata": {},
   "outputs": [],
   "source": [
    "def load_quantized_model(\n",
    "    model_save_path,\n",
    "    base_model,\n",
    "    device,\n",
    "):\n",
    "    model = graph_wrapper.get_graph_wrapper(LlamaForCausalLM, device=device).from_pretrained(\n",
    "            base_model, torch_dtype='auto', device_map=device, low_cpu_mem_usage=True,\n",
    "            use_flash_attention_2=True\n",
    "    )\n",
    "    \n",
    "    model.lm_head.weight.requires_grad = False\n",
    "\n",
    "    model.model.embed_tokens.weight.requires_grad = False\n",
    "    model.model.embed_tokens = model.model.embed_tokens.to(device)\n",
    "\n",
    "    model.model.norm.weight.requires_grad = False\n",
    "    model.model.norm = model.model.norm.to(device)\n",
    "    for layer_idx in range(len(model.model.layers)):\n",
    "        layer = torch.load(\n",
    "            f\"{model_save_path}/quant_layer_{layer_idx}.pt\",\n",
    "            map_location=device\n",
    "        )\n",
    "        layer.post_attention_layernorm.weight.requires_grad = False\n",
    "        layer.input_layernorm.weight.requires_grad = False\n",
    "\n",
    "        for sublayer in [\n",
    "            layer.self_attn.q_proj, layer.self_attn.k_proj, layer.self_attn.v_proj,\n",
    "            layer.self_attn.o_proj, layer.mlp.gate_proj, layer.mlp.up_proj,\n",
    "            layer.mlp.down_proj\n",
    "        ]:\n",
    "            if sublayer.ft_rank > 0:\n",
    "                sublayer.L_ft = torch.nn.Parameter(sublayer.L_ft.contiguous(), requires_grad=True)\n",
    "                sublayer.R_ft = torch.nn.Parameter(sublayer.R_ft.contiguous(), requires_grad=True)\n",
    "\n",
    "        model.model.layers[layer_idx] = layer\n",
    "\n",
    "    return model"
   ]
  },
  {
   "cell_type": "markdown",
   "metadata": {},
   "source": [
    "## Test Throughput of CALDERA Model"
   ]
  },
  {
   "cell_type": "code",
   "execution_count": 38,
   "metadata": {},
   "outputs": [],
   "source": [
    "MODEL_PATH = \"/home/ubuntu/caldera/data/models/caldera-rank-128-for-time-eval\"\n",
    "BASE_MODEL = \"meta-llama/Llama-2-7b-hf\"\n",
    "DEVICE = \"cuda:1\"\n",
    "SAMPLES = 500"
   ]
  },
  {
   "cell_type": "code",
   "execution_count": 40,
   "metadata": {},
   "outputs": [
    {
     "name": "stderr",
     "output_type": "stream",
     "text": [
      "Loading checkpoint shards: 100%|██████████| 2/2 [00:02<00:00,  1.37s/it]\n"
     ]
    }
   ],
   "source": [
    "model = load_quantized_model(MODEL_PATH, BASE_MODEL, DEVICE)"
   ]
  },
  {
   "cell_type": "code",
   "execution_count": 42,
   "metadata": {},
   "outputs": [],
   "source": [
    "def eval_throughput(model, samples, base_model, device, batch_size=1, seq_len=1):\n",
    "    tokenizer = AutoTokenizer.from_pretrained(base_model)\n",
    "\n",
    "    prompt = 'It is a truth universally acknowledged that'\n",
    "    inputs = tokenizer(prompt, return_tensors='pt')\n",
    "    token = inputs['input_ids'][0:1, 0:1].to(device).repeat(batch_size, seq_len)\n",
    "    model(token)\n",
    "\n",
    "    torch.cuda.synchronize()\n",
    "    start = time.time()\n",
    "    for _ in range(samples):\n",
    "        model(token)\n",
    "    torch.cuda.synchronize()\n",
    "    end = time.time()\n",
    "    print('TIME:', (end - start) / samples, 's/tok')\n",
    "    print (f'THROUGHPUT: {samples / (end - start)} tok/s')"
   ]
  },
  {
   "cell_type": "code",
   "execution_count": 43,
   "metadata": {},
   "outputs": [
    {
     "name": "stderr",
     "output_type": "stream",
     "text": [
      "I0804 07:45:22.482335 93964 graph_wrapper.py:36] Built CUDA graph of model.\n"
     ]
    },
    {
     "name": "stdout",
     "output_type": "stream",
     "text": [
      "TIME: 0.021649957656860352 s/tok\n",
      "THROUGHPUT: 46.189466780925734 tok/s\n"
     ]
    }
   ],
   "source": [
    "eval_throughput(model, SAMPLES, BASE_MODEL, DEVICE)"
   ]
  },
  {
   "cell_type": "markdown",
   "metadata": {},
   "source": [
    "## Compare with Unquantized"
   ]
  },
  {
   "cell_type": "code",
   "execution_count": 44,
   "metadata": {},
   "outputs": [],
   "source": [
    "del model\n",
    "gc.collect()\n",
    "torch.cuda.empty_cache()"
   ]
  },
  {
   "cell_type": "code",
   "execution_count": 45,
   "metadata": {},
   "outputs": [
    {
     "name": "stderr",
     "output_type": "stream",
     "text": [
      "Loading checkpoint shards: 100%|██████████| 2/2 [00:02<00:00,  1.49s/it]\n"
     ]
    }
   ],
   "source": [
    "model = graph_wrapper.get_graph_wrapper(LlamaForCausalLM, device=DEVICE).from_pretrained(\n",
    "            BASE_MODEL, torch_dtype='auto', device_map=DEVICE, low_cpu_mem_usage=True,\n",
    "            use_flash_attention_2=True\n",
    "    )\n",
    "\n",
    "# model = LlamaForCausalLM.from_pretrained(\n",
    "#             \"meta-llama/Llama-2-7b-hf\", torch_dtype='auto', device_map=\"cuda:1\", low_cpu_mem_usage=True,\n",
    "#             use_flash_attention_2=True\n",
    "#     )"
   ]
  },
  {
   "cell_type": "code",
   "execution_count": 46,
   "metadata": {},
   "outputs": [
    {
     "name": "stderr",
     "output_type": "stream",
     "text": [
      "I0804 07:45:48.635234 93964 graph_wrapper.py:36] Built CUDA graph of model.\n"
     ]
    },
    {
     "name": "stdout",
     "output_type": "stream",
     "text": [
      "TIME: 0.031495975494384765 s/tok\n",
      "THROUGHPUT: 31.750088203436793 tok/s\n"
     ]
    }
   ],
   "source": [
    "eval_throughput(model, SAMPLES, BASE_MODEL, DEVICE)"
   ]
  },
  {
   "cell_type": "code",
   "execution_count": null,
   "metadata": {},
   "outputs": [],
   "source": []
  }
 ],
 "metadata": {
  "kernelspec": {
   "display_name": "Python 3",
   "language": "python",
   "name": "python3"
  },
  "language_info": {
   "codemirror_mode": {
    "name": "ipython",
    "version": 3
   },
   "file_extension": ".py",
   "mimetype": "text/x-python",
   "name": "python",
   "nbconvert_exporter": "python",
   "pygments_lexer": "ipython3",
   "version": "3.11.9"
  }
 },
 "nbformat": 4,
 "nbformat_minor": 2
}
